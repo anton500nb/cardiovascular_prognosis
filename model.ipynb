{
 "cells": [
  {
   "cell_type": "markdown",
   "id": "8673ae3a",
   "metadata": {
    "id": "8673ae3a"
   },
   "source": [
    "## Prognosis of cardiovascular diseases\n",
    "#### (with 400k adults 2020)"
   ]
  },
  {
   "cell_type": "markdown",
   "id": "vstfGRlIvR7S",
   "metadata": {
    "id": "vstfGRlIvR7S"
   },
   "source": [
    "##### Data Visualization in Tableau Public:\n",
    "https://public.tableau.com/app/profile/anton8444/viz/ThehealthstatusofAmericans2020/Dashboard1"
   ]
  },
  {
   "cell_type": "markdown",
   "id": "987bc9e6",
   "metadata": {
    "id": "987bc9e6"
   },
   "source": [
    "#### Dataset:\n",
    "https://www.cdc.gov/brfss/index.html"
   ]
  },
  {
   "cell_type": "markdown",
   "id": "8cde01c9",
   "metadata": {
    "id": "8cde01c9"
   },
   "source": [
    "##### See data preprocessing earlier."
   ]
  },
  {
   "cell_type": "code",
   "execution_count": 1,
   "id": "a1807a70",
   "metadata": {
    "executionInfo": {
     "elapsed": 585,
     "status": "ok",
     "timestamp": 1658670238715,
     "user": {
      "displayName": "Anton Deviatko",
      "userId": "00531245545175335141"
     },
     "user_tz": -180
    },
    "id": "a1807a70"
   },
   "outputs": [],
   "source": [
    "import numpy as np\n",
    "import pandas as pd\n",
    "import seaborn as sns\n",
    "from sklearn.preprocessing import MinMaxScaler\n",
    "from sklearn.model_selection import train_test_split\n",
    "from imblearn.over_sampling import RandomOverSampler\n",
    "from sklearn.linear_model import LogisticRegression\n",
    "from sklearn import tree\n",
    "from sklearn.model_selection import GridSearchCV\n",
    "from sklearn.metrics import roc_auc_score\n",
    "from sklearn.metrics import confusion_matrix\n",
    "from sklearn.metrics import classification_report"
   ]
  },
  {
   "cell_type": "code",
   "execution_count": 2,
   "id": "cdf6f33c",
   "metadata": {
    "executionInfo": {
     "elapsed": 3127,
     "status": "ok",
     "timestamp": 1658670210060,
     "user": {
      "displayName": "Anton Deviatko",
      "userId": "00531245545175335141"
     },
     "user_tz": -180
    },
    "id": "cdf6f33c"
   },
   "outputs": [],
   "source": [
    "df = pd.read_csv('heart_dis_data.csv')"
   ]
  },
  {
   "cell_type": "code",
   "execution_count": 3,
   "id": "bf0b95a2",
   "metadata": {
    "colab": {
     "base_uri": "https://localhost:8080/",
     "height": 237
    },
    "executionInfo": {
     "elapsed": 14,
     "status": "ok",
     "timestamp": 1658670211292,
     "user": {
      "displayName": "Anton Deviatko",
      "userId": "00531245545175335141"
     },
     "user_tz": -180
    },
    "id": "bf0b95a2",
    "outputId": "f7157fdb-b2d0-49b5-cb4b-ad573f78a819"
   },
   "outputs": [
    {
     "data": {
      "text/html": [
       "<div>\n",
       "<style scoped>\n",
       "    .dataframe tbody tr th:only-of-type {\n",
       "        vertical-align: middle;\n",
       "    }\n",
       "\n",
       "    .dataframe tbody tr th {\n",
       "        vertical-align: top;\n",
       "    }\n",
       "\n",
       "    .dataframe thead th {\n",
       "        text-align: right;\n",
       "    }\n",
       "</style>\n",
       "<table border=\"1\" class=\"dataframe\">\n",
       "  <thead>\n",
       "    <tr style=\"text-align: right;\">\n",
       "      <th></th>\n",
       "      <th>_SEX</th>\n",
       "      <th>_AGE80</th>\n",
       "      <th>_TOTINDA</th>\n",
       "      <th>GENHLTH</th>\n",
       "      <th>CVDSTRK3</th>\n",
       "      <th>DIABETE4</th>\n",
       "      <th>LASTDEN4</th>\n",
       "      <th>_EDUCAG</th>\n",
       "      <th>_CHLDCNT</th>\n",
       "      <th>_SMOKER3</th>\n",
       "      <th>...</th>\n",
       "      <th>NEVMRRD</th>\n",
       "      <th>SEPRTD</th>\n",
       "      <th>UNMCOUPL</th>\n",
       "      <th>WIDWD</th>\n",
       "      <th>AMRNTV</th>\n",
       "      <th>ASIAN</th>\n",
       "      <th>BLACK</th>\n",
       "      <th>HISPAN</th>\n",
       "      <th>OTHRRACE</th>\n",
       "      <th>WHITE</th>\n",
       "    </tr>\n",
       "  </thead>\n",
       "  <tbody>\n",
       "    <tr>\n",
       "      <th>0</th>\n",
       "      <td>0.0</td>\n",
       "      <td>56.0</td>\n",
       "      <td>1.0</td>\n",
       "      <td>2.0</td>\n",
       "      <td>0.0</td>\n",
       "      <td>1.0</td>\n",
       "      <td>1.0</td>\n",
       "      <td>4.0</td>\n",
       "      <td>1.0</td>\n",
       "      <td>1.000000</td>\n",
       "      <td>...</td>\n",
       "      <td>0</td>\n",
       "      <td>0</td>\n",
       "      <td>0</td>\n",
       "      <td>0</td>\n",
       "      <td>0</td>\n",
       "      <td>0</td>\n",
       "      <td>0</td>\n",
       "      <td>0</td>\n",
       "      <td>0</td>\n",
       "      <td>1</td>\n",
       "    </tr>\n",
       "    <tr>\n",
       "      <th>1</th>\n",
       "      <td>0.0</td>\n",
       "      <td>65.0</td>\n",
       "      <td>1.0</td>\n",
       "      <td>3.0</td>\n",
       "      <td>0.0</td>\n",
       "      <td>0.0</td>\n",
       "      <td>1.0</td>\n",
       "      <td>4.0</td>\n",
       "      <td>1.0</td>\n",
       "      <td>3.634669</td>\n",
       "      <td>...</td>\n",
       "      <td>0</td>\n",
       "      <td>0</td>\n",
       "      <td>0</td>\n",
       "      <td>1</td>\n",
       "      <td>0</td>\n",
       "      <td>0</td>\n",
       "      <td>1</td>\n",
       "      <td>0</td>\n",
       "      <td>0</td>\n",
       "      <td>0</td>\n",
       "    </tr>\n",
       "    <tr>\n",
       "      <th>2</th>\n",
       "      <td>0.0</td>\n",
       "      <td>65.0</td>\n",
       "      <td>1.0</td>\n",
       "      <td>3.0</td>\n",
       "      <td>0.0</td>\n",
       "      <td>0.0</td>\n",
       "      <td>1.0</td>\n",
       "      <td>3.0</td>\n",
       "      <td>1.0</td>\n",
       "      <td>4.000000</td>\n",
       "      <td>...</td>\n",
       "      <td>0</td>\n",
       "      <td>0</td>\n",
       "      <td>0</td>\n",
       "      <td>0</td>\n",
       "      <td>0</td>\n",
       "      <td>0</td>\n",
       "      <td>1</td>\n",
       "      <td>0</td>\n",
       "      <td>0</td>\n",
       "      <td>0</td>\n",
       "    </tr>\n",
       "  </tbody>\n",
       "</table>\n",
       "<p>3 rows × 26 columns</p>\n",
       "</div>"
      ],
      "text/plain": [
       "   _SEX  _AGE80  _TOTINDA  GENHLTH  CVDSTRK3  DIABETE4  LASTDEN4  _EDUCAG  \\\n",
       "0   0.0    56.0       1.0      2.0       0.0       1.0       1.0      4.0   \n",
       "1   0.0    65.0       1.0      3.0       0.0       0.0       1.0      4.0   \n",
       "2   0.0    65.0       1.0      3.0       0.0       0.0       1.0      3.0   \n",
       "\n",
       "   _CHLDCNT  _SMOKER3  ...  NEVMRRD  SEPRTD  UNMCOUPL  WIDWD  AMRNTV  ASIAN  \\\n",
       "0       1.0  1.000000  ...        0       0         0      0       0      0   \n",
       "1       1.0  3.634669  ...        0       0         0      1       0      0   \n",
       "2       1.0  4.000000  ...        0       0         0      0       0      0   \n",
       "\n",
       "   BLACK  HISPAN  OTHRRACE  WHITE  \n",
       "0      0       0         0      1  \n",
       "1      1       0         0      0  \n",
       "2      1       0         0      0  \n",
       "\n",
       "[3 rows x 26 columns]"
      ]
     },
     "execution_count": 3,
     "metadata": {},
     "output_type": "execute_result"
    }
   ],
   "source": [
    "df.head(3)"
   ]
  },
  {
   "cell_type": "markdown",
   "id": "6d8414ab",
   "metadata": {
    "id": "6d8414ab"
   },
   "source": [
    "## Work with model\n",
    "### Logistic regression (Base model)"
   ]
  },
  {
   "cell_type": "code",
   "execution_count": 4,
   "id": "689a5f3a",
   "metadata": {
    "executionInfo": {
     "elapsed": 3,
     "status": "ok",
     "timestamp": 1658670213086,
     "user": {
      "displayName": "Anton Deviatko",
      "userId": "00531245545175335141"
     },
     "user_tz": -180
    },
    "id": "689a5f3a"
   },
   "outputs": [],
   "source": [
    "y = df['_MICHD']\n",
    "X = df.drop(['_MICHD'], axis = 1)"
   ]
  },
  {
   "cell_type": "code",
   "execution_count": 5,
   "id": "1d97777e",
   "metadata": {
    "executionInfo": {
     "elapsed": 499,
     "status": "ok",
     "timestamp": 1658670242549,
     "user": {
      "displayName": "Anton Deviatko",
      "userId": "00531245545175335141"
     },
     "user_tz": -180
    },
    "id": "1d97777e"
   },
   "outputs": [],
   "source": [
    "scaler = MinMaxScaler()                     # Normalizing the values\n",
    "X = pd.DataFrame(scaler.fit_transform(X),\n",
    "            columns = X.columns, index = X.index) "
   ]
  },
  {
   "cell_type": "code",
   "execution_count": 6,
   "id": "44353e5b",
   "metadata": {
    "executionInfo": {
     "elapsed": 309,
     "status": "ok",
     "timestamp": 1658670245511,
     "user": {
      "displayName": "Anton Deviatko",
      "userId": "00531245545175335141"
     },
     "user_tz": -180
    },
    "id": "44353e5b"
   },
   "outputs": [],
   "source": [
    "X_train, X_test, y_train, y_test = train_test_split(X, y, test_size = 0.3, random_state = 97)      # Split data for train & test sets"
   ]
  },
  {
   "cell_type": "code",
   "execution_count": 7,
   "id": "f87a6a70",
   "metadata": {
    "colab": {
     "base_uri": "https://localhost:8080/"
    },
    "executionInfo": {
     "elapsed": 6557,
     "status": "ok",
     "timestamp": 1658670253986,
     "user": {
      "displayName": "Anton Deviatko",
      "userId": "00531245545175335141"
     },
     "user_tz": -180
    },
    "id": "f87a6a70",
    "outputId": "1da46b05-2107-437d-b470-e595daf0e210"
   },
   "outputs": [
    {
     "name": "stdout",
     "output_type": "stream",
     "text": [
      "train score: 0.9157106044241089\n",
      "test score: 0.9151880740632745\n",
      "roc auc: 0.8359324661231814\n",
      "matrix: [[106730    781]\n",
      " [  9130    942]]\n",
      "              precision    recall  f1-score   support\n",
      "\n",
      "         0.0       0.92      0.99      0.96    107511\n",
      "         1.0       0.55      0.09      0.16     10072\n",
      "\n",
      "    accuracy                           0.92    117583\n",
      "   macro avg       0.73      0.54      0.56    117583\n",
      "weighted avg       0.89      0.92      0.89    117583\n",
      "\n"
     ]
    }
   ],
   "source": [
    "model = LogisticRegression(max_iter=1000)\n",
    "model.fit(X_train, y_train)\n",
    "print('train score:',model.score(X_test, y_test))\n",
    "print('test score:',model.score(X_train, y_train))\n",
    "p_test = model.predict_proba(X_test)[:,-1]\n",
    "print('roc auc:', roc_auc_score(y_test, p_test))\n",
    "y_pred = model.predict(X_test)\n",
    "print('matrix:', confusion_matrix(y_test, y_pred))\n",
    "print(classification_report(y_test, y_pred))"
   ]
  },
  {
   "cell_type": "markdown",
   "id": "f55a8d0d",
   "metadata": {
    "id": "f55a8d0d"
   },
   "source": [
    "Low f1-score for target '1' is associated with imbalanced classes (10:1)."
   ]
  },
  {
   "cell_type": "markdown",
   "id": "1DB3FM6imZsz",
   "metadata": {
    "id": "1DB3FM6imZsz"
   },
   "source": [
    "### Fix Class imbalance"
   ]
  },
  {
   "cell_type": "code",
   "execution_count": 12,
   "id": "38d0da28",
   "metadata": {
    "colab": {
     "base_uri": "https://localhost:8080/"
    },
    "executionInfo": {
     "elapsed": 417,
     "status": "ok",
     "timestamp": 1658670260955,
     "user": {
      "displayName": "Anton Deviatko",
      "userId": "00531245545175335141"
     },
     "user_tz": -180
    },
    "id": "38d0da28",
    "outputId": "02276966-3bf5-43bf-a044-0bf2780e7a51"
   },
   "outputs": [
    {
     "data": {
      "text/plain": [
       "9552"
      ]
     },
     "execution_count": 12,
     "metadata": {},
     "output_type": "execute_result"
    }
   ],
   "source": [
    "df['_MICHD'][(df['CVDSTRK3'] == 1) & (df['_MICHD'] == 0)].count()      # Show how many people have had a stroke and do not have heart disease"
   ]
  },
  {
   "cell_type": "markdown",
   "id": "66b2d0e1",
   "metadata": {
    "id": "66b2d0e1"
   },
   "source": [
    "Combine stroke and heart disease to predict cardiovascular disease, this gives 9552 cases."
   ]
  },
  {
   "cell_type": "code",
   "execution_count": 13,
   "id": "32cad062",
   "metadata": {
    "executionInfo": {
     "elapsed": 314,
     "status": "ok",
     "timestamp": 1658670262803,
     "user": {
      "displayName": "Anton Deviatko",
      "userId": "00531245545175335141"
     },
     "user_tz": -180
    },
    "id": "32cad062"
   },
   "outputs": [],
   "source": [
    "df[\"TARGET\"] = df[\"CVDSTRK3\"] + df[\"_MICHD\"]\n",
    "df = df.replace({'TARGET':{2:1}})"
   ]
  },
  {
   "cell_type": "code",
   "execution_count": 14,
   "id": "hf8KZBbQzTze",
   "metadata": {
    "colab": {
     "base_uri": "https://localhost:8080/"
    },
    "executionInfo": {
     "elapsed": 5,
     "status": "ok",
     "timestamp": 1658670264307,
     "user": {
      "displayName": "Anton Deviatko",
      "userId": "00531245545175335141"
     },
     "user_tz": -180
    },
    "id": "hf8KZBbQzTze",
    "outputId": "2be530e8-ed11-462d-9cc4-ac09da26b750"
   },
   "outputs": [
    {
     "data": {
      "text/plain": [
       "Index(['_SEX', '_AGE80', '_TOTINDA', 'GENHLTH', 'DIABETE4', 'LASTDEN4',\n",
       "       '_EDUCAG', '_CHLDCNT', '_SMOKER3', '_URBSTAT', 'BMI_LOG', 'SLEEP_LOG',\n",
       "       'DIVRSD', 'MARRD', 'NEVMRRD', 'SEPRTD', 'UNMCOUPL', 'WIDWD', 'AMRNTV',\n",
       "       'ASIAN', 'BLACK', 'HISPAN', 'OTHRRACE', 'WHITE', 'TARGET'],\n",
       "      dtype='object')"
      ]
     },
     "execution_count": 14,
     "metadata": {},
     "output_type": "execute_result"
    }
   ],
   "source": [
    "df = df.drop(['_MICHD', 'CVDSTRK3'], axis = 1)       \n",
    "df.columns"
   ]
  },
  {
   "cell_type": "markdown",
   "id": "fc242883",
   "metadata": {
    "id": "fc242883"
   },
   "source": [
    "#### Use RandomOverSampler() to oversample the minority class"
   ]
  },
  {
   "cell_type": "code",
   "execution_count": 15,
   "id": "FC9xGic00cYR",
   "metadata": {
    "executionInfo": {
     "elapsed": 386,
     "status": "ok",
     "timestamp": 1658670266578,
     "user": {
      "displayName": "Anton Deviatko",
      "userId": "00531245545175335141"
     },
     "user_tz": -180
    },
    "id": "FC9xGic00cYR"
   },
   "outputs": [],
   "source": [
    "y = df['TARGET']\n",
    "X = df.drop(['TARGET'], axis = 1)"
   ]
  },
  {
   "cell_type": "code",
   "execution_count": 16,
   "id": "gpmKWIKq0cYS",
   "metadata": {
    "executionInfo": {
     "elapsed": 311,
     "status": "ok",
     "timestamp": 1658670328660,
     "user": {
      "displayName": "Anton Deviatko",
      "userId": "00531245545175335141"
     },
     "user_tz": -180
    },
    "id": "gpmKWIKq0cYS"
   },
   "outputs": [],
   "source": [
    "X_train, X_test, y_train, y_test = train_test_split(X, y, test_size = 0.3, random_state = 97)      # Split data for train & test sets"
   ]
  },
  {
   "cell_type": "code",
   "execution_count": 17,
   "id": "6c163105",
   "metadata": {
    "executionInfo": {
     "elapsed": 1380,
     "status": "ok",
     "timestamp": 1658670331542,
     "user": {
      "displayName": "Anton Deviatko",
      "userId": "00531245545175335141"
     },
     "user_tz": -180
    },
    "id": "6c163105"
   },
   "outputs": [],
   "source": [
    "ros = RandomOverSampler()\n",
    "X_resampled, y_resampled = ros.fit_resample(X_train, y_train)"
   ]
  },
  {
   "cell_type": "code",
   "execution_count": 18,
   "id": "732574a3",
   "metadata": {
    "colab": {
     "base_uri": "https://localhost:8080/"
    },
    "executionInfo": {
     "elapsed": 83517,
     "status": "ok",
     "timestamp": 1658670478757,
     "user": {
      "displayName": "Anton Deviatko",
      "userId": "00531245545175335141"
     },
     "user_tz": -180
    },
    "id": "732574a3",
    "outputId": "57201294-1ea8-42f0-be89-8ed647ba0609"
   },
   "outputs": [
    {
     "name": "stdout",
     "output_type": "stream",
     "text": [
      "train score: 0.7264060280822908\n",
      "test score: 0.7496539579835374\n",
      "roc auc: 0.82100322485129\n",
      "matrix: [[75288 29323]\n",
      " [ 2847 10125]]\n",
      "              precision    recall  f1-score   support\n",
      "\n",
      "         0.0       0.96      0.72      0.82    104611\n",
      "         1.0       0.26      0.78      0.39     12972\n",
      "\n",
      "    accuracy                           0.73    117583\n",
      "   macro avg       0.61      0.75      0.61    117583\n",
      "weighted avg       0.89      0.73      0.78    117583\n",
      "\n"
     ]
    }
   ],
   "source": [
    "model = LogisticRegression(max_iter=10000)      # check LR after using RandomOverSampler()\n",
    "model.fit(X_resampled, y_resampled)\n",
    "print('train score:', model.score(X_test, y_test))\n",
    "print('test score:', model.score(X_resampled, y_resampled))\n",
    "p_test = model.predict_proba(X_test)[:,-1]\n",
    "print('roc auc:', roc_auc_score(y_test, p_test))\n",
    "y_pred = model.predict(X_test)\n",
    "print('matrix:', confusion_matrix(y_test, y_pred))\n",
    "print(classification_report(y_test, y_pred))"
   ]
  },
  {
   "cell_type": "markdown",
   "id": "b51b53ea",
   "metadata": {
    "id": "b51b53ea"
   },
   "source": [
    "The f1-score for the Target improved from 0.16 to 0.39."
   ]
  },
  {
   "cell_type": "markdown",
   "id": "3389b9c2",
   "metadata": {
    "id": "3389b9c2"
   },
   "source": [
    "### DecisionTreeClassifier"
   ]
  },
  {
   "cell_type": "markdown",
   "id": "b21668dc",
   "metadata": {
    "id": "b21668dc"
   },
   "source": [
    "#### Find the best options for DecisionTreeClassifier"
   ]
  },
  {
   "cell_type": "code",
   "execution_count": 27,
   "id": "4bfe0bf7",
   "metadata": {
    "colab": {
     "base_uri": "https://localhost:8080/"
    },
    "executionInfo": {
     "elapsed": 2011258,
     "status": "ok",
     "timestamp": 1658662682282,
     "user": {
      "displayName": "Anton Deviatko",
      "userId": "00531245545175335141"
     },
     "user_tz": -180
    },
    "id": "4bfe0bf7",
    "outputId": "90f04ce6-0af1-4d8d-eef9-a301c5e385a4"
   },
   "outputs": [
    {
     "name": "stdout",
     "output_type": "stream",
     "text": [
      "Fitting 3 folds for each of 540 candidates, totalling 1620 fits\n"
     ]
    },
    {
     "data": {
      "text/plain": [
       "DecisionTreeClassifier(max_depth=9, max_leaf_nodes=109, random_state=42)"
      ]
     },
     "execution_count": 27,
     "metadata": {},
     "output_type": "execute_result"
    }
   ],
   "source": [
    "params = {'max_leaf_nodes': list(range(80, 110)), 'min_samples_split': [2, 3, 4], 'max_depth': list(range(7,13))}\n",
    "grid_search_cv = GridSearchCV(tree.DecisionTreeClassifier(random_state=42), params, verbose=1, cv=3)\n",
    "grid_search_cv.fit(X_resampled, y_resampled)\n",
    "grid_search_cv.best_estimator_"
   ]
  },
  {
   "cell_type": "code",
   "execution_count": 85,
   "id": "b957019d",
   "metadata": {
    "colab": {
     "base_uri": "https://localhost:8080/"
    },
    "executionInfo": {
     "elapsed": 2520,
     "status": "ok",
     "timestamp": 1658669668210,
     "user": {
      "displayName": "Anton Deviatko",
      "userId": "00531245545175335141"
     },
     "user_tz": -180
    },
    "id": "b957019d",
    "outputId": "ee6d2dd5-7252-41fc-c13d-e048733b6cb5"
   },
   "outputs": [
    {
     "name": "stdout",
     "output_type": "stream",
     "text": [
      "train score: 0.752035300380851\n",
      "test score: 0.7147036561407687\n",
      "roc auc: 0.8171749265334715\n",
      "matrix: [[73779 30832]\n",
      " [ 2714 10258]]\n",
      "              precision    recall  f1-score   support\n",
      "\n",
      "         0.0       0.96      0.71      0.81    104611\n",
      "         1.0       0.25      0.79      0.38     12972\n",
      "\n",
      "    accuracy                           0.71    117583\n",
      "   macro avg       0.61      0.75      0.60    117583\n",
      "weighted avg       0.89      0.71      0.77    117583\n",
      "\n"
     ]
    }
   ],
   "source": [
    "model = tree.DecisionTreeClassifier(max_depth=9, max_leaf_nodes=108, random_state=42)\n",
    "model.fit(X_resampled, y_resampled)\n",
    "print('train score:',model.score(X_resampled, y_resampled))\n",
    "print('test score:',model.score(X_test, y_test))\n",
    "p_test = model.predict_proba(X_test)[:,-1]\n",
    "print('roc auc:', roc_auc_score(y_test, p_test))\n",
    "y_pred = model.predict(X_test)\n",
    "print('matrix:', confusion_matrix(y_test, y_pred))\n",
    "print(classification_report(y_test, y_pred))"
   ]
  },
  {
   "cell_type": "markdown",
   "id": "4Dg2NRIMtbDl",
   "metadata": {
    "id": "4Dg2NRIMtbDl"
   },
   "source": [
    "## Assessment"
   ]
  },
  {
   "cell_type": "markdown",
   "id": "T4fgXAz1oWgF",
   "metadata": {
    "id": "T4fgXAz1oWgF"
   },
   "source": [
    "##### F1-score is still not high, but this model can be used for rapid screening of people prone to stroke and heart attack, despite more 30 thousand false predictions of the disease, while at the same time there are few false predictions about the absence of the disease (2,7k).\n",
    "##### The model is quite comfortable, there are non-invasive indicators that can be examined at home or by phone."
   ]
  },
  {
   "cell_type": "code",
   "execution_count": null,
   "id": "5e75611c",
   "metadata": {},
   "outputs": [],
   "source": []
  }
 ],
 "metadata": {
  "colab": {
   "collapsed_sections": [],
   "name": "model.ipynb",
   "provenance": []
  },
  "kernelspec": {
   "display_name": "Python 3 (ipykernel)",
   "language": "python",
   "name": "python3"
  },
  "language_info": {
   "codemirror_mode": {
    "name": "ipython",
    "version": 3
   },
   "file_extension": ".py",
   "mimetype": "text/x-python",
   "name": "python",
   "nbconvert_exporter": "python",
   "pygments_lexer": "ipython3",
   "version": "3.9.7"
  }
 },
 "nbformat": 4,
 "nbformat_minor": 5
}
