{
 "cells": [
  {
   "cell_type": "markdown",
   "id": "8673ae3a",
   "metadata": {
    "id": "8673ae3a"
   },
   "source": [
    "# Prognosis of cardiovascular diseases\n",
    "## (with 400k adults 2020)"
   ]
  },
  {
   "cell_type": "markdown",
   "id": "vstfGRlIvR7S",
   "metadata": {
    "id": "vstfGRlIvR7S"
   },
   "source": [
    "##### Data Visualization in Tableau Public:\n",
    "https://public.tableau.com/app/profile/anton8444/viz/ThehealthstatusofAmericans2020/Dashboard1"
   ]
  },
  {
   "cell_type": "code",
   "execution_count": 1,
   "id": "a1807a70",
   "metadata": {
    "colab": {
     "base_uri": "https://localhost:8080/"
    },
    "executionInfo": {
     "elapsed": 2145,
     "status": "ok",
     "timestamp": 1657611162269,
     "user": {
      "displayName": "Anton Deviatko",
      "userId": "00531245545175335141"
     },
     "user_tz": -180
    },
    "id": "a1807a70",
    "outputId": "0aeb7a9b-87b9-4e03-de3e-7b17e2d95fed"
   },
   "outputs": [],
   "source": [
    "import pandas as pd\n",
    "import numpy as np\n",
    "import matplotlib.pyplot as plt\n",
    "import seaborn as sns"
   ]
  },
  {
   "cell_type": "markdown",
   "id": "8cde01c9",
   "metadata": {
    "id": "8cde01c9"
   },
   "source": [
    "## Data preprocessing"
   ]
  },
  {
   "cell_type": "markdown",
   "id": "987bc9e6",
   "metadata": {
    "id": "987bc9e6"
   },
   "source": [
    "#### Load dataset:\n",
    "https://www.cdc.gov/brfss/index.html"
   ]
  },
  {
   "cell_type": "code",
   "execution_count": 2,
   "id": "bzfI1VBlhhkq",
   "metadata": {
    "colab": {
     "base_uri": "https://localhost:8080/"
    },
    "executionInfo": {
     "elapsed": 24134,
     "status": "ok",
     "timestamp": 1657611249559,
     "user": {
      "displayName": "Anton Deviatko",
      "userId": "00531245545175335141"
     },
     "user_tz": -180
    },
    "id": "bzfI1VBlhhkq",
    "outputId": "1b9dd754-9f02-4840-f9fd-8bbf741988ce"
   },
   "outputs": [
    {
     "name": "stderr",
     "output_type": "stream",
     "text": [
      "/Users/tonyd/opt/anaconda3/lib/python3.9/site-packages/pandas/io/sas/sas_xport.py:475: PerformanceWarning: DataFrame is highly fragmented.  This is usually the result of calling `frame.insert` many times, which has poor performance.  Consider joining all columns at once using pd.concat(axis=1) instead.  To get a de-fragmented frame, use `newframe = frame.copy()`\n",
      "  df[x] = v\n"
     ]
    }
   ],
   "source": [
    "data = pd.read_sas('2020.XPT')"
   ]
  },
  {
   "cell_type": "code",
   "execution_count": 3,
   "id": "bdf3992f",
   "metadata": {
    "executionInfo": {
     "elapsed": 2019,
     "status": "ok",
     "timestamp": 1657611743434,
     "user": {
      "displayName": "Anton Deviatko",
      "userId": "00531245545175335141"
     },
     "user_tz": -180
    },
    "id": "bdf3992f",
    "scrolled": true
   },
   "outputs": [],
   "source": [
    "df = data.copy()"
   ]
  },
  {
   "cell_type": "markdown",
   "id": "9219679a",
   "metadata": {
    "id": "9219679a"
   },
   "source": [
    "#### Read documentation: \n",
    "https://www.cdc.gov/brfss/annual_data/2020/pdf/codebook20_llcp-v2-508.pdf\n",
    "#### and select features that are useful for simple incidence screening and have not much lost data."
   ]
  },
  {
   "cell_type": "code",
   "execution_count": 4,
   "id": "32d44452",
   "metadata": {
    "id": "32d44452"
   },
   "outputs": [],
   "source": [
    "df=df[['_SEX',      # Sex of Respondent  (Male = 1).\n",
    "       '_AGE80',    # Age in years.\n",
    "       '_BMI5',     # Body Mass Index (BMI).\n",
    "       '_TOTINDA',  # Adults who reported doing physical activity or exercise during the past 30 days other than their regular job (Yes = 1).\n",
    "       'GENHLTH',   # Self-reported health. Would you say that in general your health is: (1-5).\n",
    "       'SLEPTIM1',  # Hours of sleep. How Much Time Do You Sleep/ On average, how many hours of sleep do you get in a 24-hour period (in hours)? \n",
    "       'CVDSTRK3',  # Stroke Status. (Ever told) (you had) a stroke?(Yes = 1).\n",
    "       'DIABETE4',  # Diabetes Status. (Ever told) (you had) diabetes? (Yes = 1). \n",
    "       'LASTDEN4',  # Last Visited Dentist or Dental Clinic (1-4, 1 = anytime less than 12 months ago).\n",
    "       'RMVTETH4',  # Number of Permanent Teeth Removed.\n",
    "       'MARITAL',   # Marital status (1 Married,2 Divorced,3 Widowed, 4 Separated, 5 Never married, 6 unmarried couple ).\n",
    "       '_EDUCAG',   # Education Status. What is the highest grade or year of school you completed? \n",
    "       '_CHLDCNT',  # Number of Children in Household. \n",
    "       '_SMOKER3',  # Four-level smoker status: Everyday smoker, Someday smoker, Former smoker, Non-smoker.\n",
    "       '_RFBING5',  # Binge drinkers (males having five or more drinks on one occasion, females having four or more drinks on one occasion) (Yes = 2).\n",
    "       '_URBSTAT',  # Urban/Rural Status (1 = Urban).\n",
    "       '_IMPRACE',  # Imputed race/ethnicity value (1 White,2 Black, 3 Asian, 4 American Indian/Alaskan Native, 5 Hispanic, Other race).\n",
    "       '_MICHD']]   # Respondents that have ever reported having coronary heart disease (CHD) or myocardial infarction (MI) (Yes = 1)\n"
   ]
  },
  {
   "cell_type": "code",
   "execution_count": 5,
   "id": "7184c475",
   "metadata": {
    "colab": {
     "base_uri": "https://localhost:8080/"
    },
    "executionInfo": {
     "elapsed": 396,
     "status": "ok",
     "timestamp": 1657611772188,
     "user": {
      "displayName": "Anton Deviatko",
      "userId": "00531245545175335141"
     },
     "user_tz": -180
    },
    "id": "7184c475",
    "outputId": "d3ebc807-2fee-4d66-c26d-32fbf4552c39"
   },
   "outputs": [
    {
     "data": {
      "text/plain": [
       "_SEX        float64\n",
       "_AGE80      float64\n",
       "_BMI5       float64\n",
       "_TOTINDA    float64\n",
       "GENHLTH     float64\n",
       "SLEPTIM1    float64\n",
       "CVDSTRK3    float64\n",
       "DIABETE4    float64\n",
       "LASTDEN4    float64\n",
       "RMVTETH4    float64\n",
       "MARITAL     float64\n",
       "_EDUCAG     float64\n",
       "_CHLDCNT    float64\n",
       "_SMOKER3    float64\n",
       "_RFBING5    float64\n",
       "_URBSTAT    float64\n",
       "_IMPRACE    float64\n",
       "_MICHD      float64\n",
       "dtype: object"
      ]
     },
     "execution_count": 5,
     "metadata": {},
     "output_type": "execute_result"
    }
   ],
   "source": [
    "df.dtypes"
   ]
  },
  {
   "cell_type": "markdown",
   "id": "356524be",
   "metadata": {
    "id": "356524be"
   },
   "source": [
    "### Check for NaN"
   ]
  },
  {
   "cell_type": "code",
   "execution_count": 6,
   "id": "671b598e",
   "metadata": {
    "colab": {
     "base_uri": "https://localhost:8080/"
    },
    "executionInfo": {
     "elapsed": 502,
     "status": "ok",
     "timestamp": 1657611780892,
     "user": {
      "displayName": "Anton Deviatko",
      "userId": "00531245545175335141"
     },
     "user_tz": -180
    },
    "id": "671b598e",
    "outputId": "56eb440f-6211-46f7-a788-f53ef34d9b44",
    "scrolled": true
   },
   "outputs": [
    {
     "data": {
      "text/plain": [
       "_SEX            0\n",
       "_AGE80          0\n",
       "_BMI5       41357\n",
       "_TOTINDA        0\n",
       "GENHLTH         8\n",
       "SLEPTIM1        3\n",
       "CVDSTRK3        3\n",
       "DIABETE4        6\n",
       "LASTDEN4        7\n",
       "RMVTETH4        7\n",
       "MARITAL        12\n",
       "_EDUCAG         0\n",
       "_CHLDCNT        0\n",
       "_SMOKER3        0\n",
       "_RFBING5        0\n",
       "_URBSTAT     7127\n",
       "_IMPRACE        0\n",
       "_MICHD       3571\n",
       "dtype: int64"
      ]
     },
     "execution_count": 6,
     "metadata": {},
     "output_type": "execute_result"
    }
   ],
   "source": [
    "df.isnull().sum()"
   ]
  },
  {
   "cell_type": "markdown",
   "id": "231d62f2",
   "metadata": {
    "id": "231d62f2"
   },
   "source": [
    "### Descry each feature"
   ]
  },
  {
   "cell_type": "markdown",
   "id": "ed49eafa",
   "metadata": {
    "id": "ed49eafa"
   },
   "source": [
    "#### '_MICHD'\n",
    "##### Reported having coronary heart disease or myocardial infarction. Predicted feature for model."
   ]
  },
  {
   "cell_type": "code",
   "execution_count": 7,
   "id": "81dd0536",
   "metadata": {
    "colab": {
     "base_uri": "https://localhost:8080/"
    },
    "executionInfo": {
     "elapsed": 396,
     "status": "ok",
     "timestamp": 1657611812177,
     "user": {
      "displayName": "Anton Deviatko",
      "userId": "00531245545175335141"
     },
     "user_tz": -180
    },
    "id": "81dd0536",
    "outputId": "6a5624ac-88e4-422d-a464-9970f9a8e05e"
   },
   "outputs": [
    {
     "data": {
      "text/plain": [
       "_MICHD\n",
       "1.0     34163\n",
       "2.0    364224\n",
       "Name: _MICHD, dtype: int64"
      ]
     },
     "execution_count": 7,
     "metadata": {},
     "output_type": "execute_result"
    }
   ],
   "source": [
    "df.groupby(['_MICHD'])['_MICHD'].count()"
   ]
  },
  {
   "cell_type": "markdown",
   "id": "4f989de8",
   "metadata": {
    "id": "4f989de8"
   },
   "source": [
    "##### Make the values '1' for 'Yes' and '0' for 'No'."
   ]
  },
  {
   "cell_type": "code",
   "execution_count": 8,
   "id": "26d4e874",
   "metadata": {
    "executionInfo": {
     "elapsed": 496,
     "status": "ok",
     "timestamp": 1657611829274,
     "user": {
      "displayName": "Anton Deviatko",
      "userId": "00531245545175335141"
     },
     "user_tz": -180
    },
    "id": "26d4e874"
   },
   "outputs": [],
   "source": [
    "df = df.replace({'_MICHD':{2:0}})"
   ]
  },
  {
   "cell_type": "code",
   "execution_count": 9,
   "id": "b7c47dfb",
   "metadata": {
    "colab": {
     "base_uri": "https://localhost:8080/",
     "height": 369
    },
    "executionInfo": {
     "elapsed": 7248,
     "status": "ok",
     "timestamp": 1657612672169,
     "user": {
      "displayName": "Anton Deviatko",
      "userId": "00531245545175335141"
     },
     "user_tz": -180
    },
    "id": "b7c47dfb",
    "outputId": "213c7b98-354a-4ddc-cc6e-f46fa32858b3"
   },
   "outputs": [
    {
     "data": {
      "text/plain": [
       "<seaborn.axisgrid.FacetGrid at 0x7ff2c800e1f0>"
      ]
     },
     "execution_count": 9,
     "metadata": {},
     "output_type": "execute_result"
    },
    {
     "data": {
      "image/png": "[encoded data removed]",
      "text/plain": [
       "<Figure size 412x360 with 1 Axes>"
      ]
     },
     "metadata": {
      "needs_background": "light"
     },
     "output_type": "display_data"
    }
   ],
   "source": [
    "sns.displot(x=df.index, hue='_MICHD',  data=df, kind='kde')"
   ]
  },
  {
   "cell_type": "code",
   "execution_count": 10,
   "id": "hFuQRkQIZ4R2",
   "metadata": {
    "colab": {
     "base_uri": "https://localhost:8080/"
    },
    "executionInfo": {
     "elapsed": 6,
     "status": "ok",
     "timestamp": 1657612535855,
     "user": {
      "displayName": "Anton Deviatko",
      "userId": "00531245545175335141"
     },
     "user_tz": -180
    },
    "id": "hFuQRkQIZ4R2",
    "outputId": "cf8e586e-6005-4711-a616-a91ed3e820a7"
   },
   "outputs": [
    {
     "data": {
      "text/plain": [
       "3571"
      ]
     },
     "execution_count": 10,
     "metadata": {},
     "output_type": "execute_result"
    }
   ],
   "source": [
    "df['_MICHD'].isnull().sum()"
   ]
  },
  {
   "cell_type": "markdown",
   "id": "EbfD1tuvYDMk",
   "metadata": {
    "id": "EbfD1tuvYDMk"
   },
   "source": [
    "##### This is the target feature it has 3571 NaN values and class imbalance."
   ]
  },
  {
   "cell_type": "markdown",
   "id": "25557785",
   "metadata": {
    "id": "25557785"
   },
   "source": [
    "#### '_SEX'"
   ]
  },
  {
   "cell_type": "code",
   "execution_count": 11,
   "id": "50cfc3e9",
   "metadata": {
    "colab": {
     "base_uri": "https://localhost:8080/"
    },
    "executionInfo": {
     "elapsed": 402,
     "status": "ok",
     "timestamp": 1657611891977,
     "user": {
      "displayName": "Anton Deviatko",
      "userId": "00531245545175335141"
     },
     "user_tz": -180
    },
    "id": "50cfc3e9",
    "outputId": "1ee001ee-63c5-4aa0-8103-67c1fb208811"
   },
   "outputs": [
    {
     "data": {
      "text/plain": [
       "_SEX\n",
       "1.0    183931\n",
       "2.0    218027\n",
       "Name: _SEX, dtype: int64"
      ]
     },
     "execution_count": 11,
     "metadata": {},
     "output_type": "execute_result"
    }
   ],
   "source": [
    "df.groupby(['_SEX'])['_SEX'].count()"
   ]
  },
  {
   "cell_type": "markdown",
   "id": "238a22ad",
   "metadata": {
    "id": "238a22ad"
   },
   "source": [
    "##### Make the values '1' for 'men'."
   ]
  },
  {
   "cell_type": "code",
   "execution_count": 12,
   "id": "265fe0bf",
   "metadata": {
    "colab": {
     "base_uri": "https://localhost:8080/"
    },
    "executionInfo": {
     "elapsed": 416,
     "status": "ok",
     "timestamp": 1657612077648,
     "user": {
      "displayName": "Anton Deviatko",
      "userId": "00531245545175335141"
     },
     "user_tz": -180
    },
    "id": "265fe0bf",
    "outputId": "9366dddc-ed49-4ee7-843c-0410683d4a0b"
   },
   "outputs": [
    {
     "data": {
      "text/plain": [
       "_SEX\n",
       "0.0    218027\n",
       "1.0    183931\n",
       "Name: _SEX, dtype: int64"
      ]
     },
     "execution_count": 12,
     "metadata": {},
     "output_type": "execute_result"
    }
   ],
   "source": [
    "df = df.replace({'_SEX':{2:0}})\n",
    "df.groupby(['_SEX'])['_SEX'].count()"
   ]
  },
  {
   "cell_type": "code",
   "execution_count": 13,
   "id": "9ab8e464",
   "metadata": {
    "colab": {
     "base_uri": "https://localhost:8080/",
     "height": 387
    },
    "executionInfo": {
     "elapsed": 1899,
     "status": "ok",
     "timestamp": 1657612093462,
     "user": {
      "displayName": "Anton Deviatko",
      "userId": "00531245545175335141"
     },
     "user_tz": -180
    },
    "id": "9ab8e464",
    "outputId": "9e9da8eb-0549-4bc9-b0b0-89e53889f778"
   },
   "outputs": [
    {
     "data": {
      "text/plain": [
       "<seaborn.axisgrid.FacetGrid at 0x7ff26ffc7970>"
      ]
     },
     "execution_count": 13,
     "metadata": {},
     "output_type": "execute_result"
    },
    {
     "data": {
      "image/png": "[encoded data removed]",
      "text/plain": [
       "<Figure size 412x360 with 1 Axes>"
      ]
     },
     "metadata": {
      "needs_background": "light"
     },
     "output_type": "display_data"
    }
   ],
   "source": [
    "sns.displot(x = df['_SEX'], hue = '_MICHD', data = df,  binwidth = 0.2)"
   ]
  },
  {
   "cell_type": "markdown",
   "id": "11ea8a6f",
   "metadata": {
    "id": "11ea8a6f"
   },
   "source": [
    "#### '_AGE80' \n",
    "##### Age in years."
   ]
  },
  {
   "cell_type": "code",
   "execution_count": 14,
   "id": "5441e6c7",
   "metadata": {
    "colab": {
     "base_uri": "https://localhost:8080/",
     "height": 387
    },
    "executionInfo": {
     "elapsed": 2999,
     "status": "ok",
     "timestamp": 1657612120780,
     "user": {
      "displayName": "Anton Deviatko",
      "userId": "00531245545175335141"
     },
     "user_tz": -180
    },
    "id": "5441e6c7",
    "outputId": "16bcc9e1-3d1c-460a-92c2-89e28911b147"
   },
   "outputs": [
    {
     "data": {
      "text/plain": [
       "<seaborn.axisgrid.FacetGrid at 0x7ff24feebe80>"
      ]
     },
     "execution_count": 14,
     "metadata": {},
     "output_type": "execute_result"
    },
    {
     "data": {
      "image/png": "[encoded data removed]",
      "text/plain": [
       "<Figure size 412x360 with 1 Axes>"
      ]
     },
     "metadata": {
      "needs_background": "light"
     },
     "output_type": "display_data"
    }
   ],
   "source": [
    "sns.displot(x = df['_AGE80'], hue = '_MICHD', data = df,  bins = 50)"
   ]
  },
  {
   "cell_type": "markdown",
   "id": "bRvIfV2QZu-9",
   "metadata": {
    "id": "bRvIfV2QZu-9"
   },
   "source": [
    "##### The distribution is not normal, but since the latter category includes all people over 80 years of age, and age affects the risk of disease, made MinMaxScaler() later."
   ]
  },
  {
   "cell_type": "markdown",
   "id": "0d0cc1da",
   "metadata": {
    "id": "0d0cc1da"
   },
   "source": [
    "#### '_BMI5'\n",
    "##### Body Mass Index."
   ]
  },
  {
   "cell_type": "code",
   "execution_count": 15,
   "id": "509de120",
   "metadata": {
    "colab": {
     "base_uri": "https://localhost:8080/"
    },
    "executionInfo": {
     "elapsed": 410,
     "status": "ok",
     "timestamp": 1657612166124,
     "user": {
      "displayName": "Anton Deviatko",
      "userId": "00531245545175335141"
     },
     "user_tz": -180
    },
    "id": "509de120",
    "outputId": "d0b0b381-8364-470f-f469-1aa91aacf955"
   },
   "outputs": [
    {
     "data": {
      "text/plain": [
       "41357"
      ]
     },
     "execution_count": 15,
     "metadata": {},
     "output_type": "execute_result"
    }
   ],
   "source": [
    "df['_BMI5'].isnull().sum()"
   ]
  },
  {
   "cell_type": "code",
   "execution_count": 16,
   "id": "8ecab408",
   "metadata": {
    "id": "8ecab408"
   },
   "outputs": [
    {
     "data": {
      "text/plain": [
       "<seaborn.axisgrid.FacetGrid at 0x7ff25996b430>"
      ]
     },
     "execution_count": 16,
     "metadata": {},
     "output_type": "execute_result"
    },
    {
     "data": {
      "image/png": "[encoded data removed]",
      "text/plain": [
       "<Figure size 412x360 with 1 Axes>"
      ]
     },
     "metadata": {
      "needs_background": "light"
     },
     "output_type": "display_data"
    }
   ],
   "source": [
    "sns.displot(x = df['_BMI5'].isnull(), hue = '_MICHD', data = df,  bins = 5)  # show NaN distribution"
   ]
  },
  {
   "cell_type": "code",
   "execution_count": 17,
   "id": "4fa7a31b",
   "metadata": {
    "colab": {
     "base_uri": "https://localhost:8080/",
     "height": 387
    },
    "executionInfo": {
     "elapsed": 3180,
     "status": "ok",
     "timestamp": 1657612885070,
     "user": {
      "displayName": "Anton Deviatko",
      "userId": "00531245545175335141"
     },
     "user_tz": -180
    },
    "id": "4fa7a31b",
    "outputId": "8393372a-3216-4222-86e6-3d602f47ff1c"
   },
   "outputs": [
    {
     "data": {
      "text/plain": [
       "<seaborn.axisgrid.FacetGrid at 0x7ff26ffe63a0>"
      ]
     },
     "execution_count": 17,
     "metadata": {},
     "output_type": "execute_result"
    },
    {
     "data": {
      "image/png": "[encoded data removed]",
      "text/plain": [
       "<Figure size 412x360 with 1 Axes>"
      ]
     },
     "metadata": {
      "needs_background": "light"
     },
     "output_type": "display_data"
    }
   ],
   "source": [
    "sns.displot(x = df['_BMI5'].round(0), hue = '_MICHD', data = df,  bins = 40)"
   ]
  },
  {
   "cell_type": "code",
   "execution_count": 18,
   "id": "1rD_StfobCs3",
   "metadata": {
    "colab": {
     "base_uri": "https://localhost:8080/"
    },
    "executionInfo": {
     "elapsed": 8,
     "status": "ok",
     "timestamp": 1657612813287,
     "user": {
      "displayName": "Anton Deviatko",
      "userId": "00531245545175335141"
     },
     "user_tz": -180
    },
    "id": "1rD_StfobCs3",
    "outputId": "cddf83be-1a82-402e-bb77-99efa03eb1cb"
   },
   "outputs": [
    {
     "data": {
      "text/plain": [
       "count    360601.000000\n",
       "mean       2830.631271\n",
       "std         638.164868\n",
       "min        1202.000000\n",
       "25%        2399.000000\n",
       "50%        2732.000000\n",
       "75%        3138.000000\n",
       "max        9843.000000\n",
       "Name: _BMI5, dtype: float64"
      ]
     },
     "execution_count": 18,
     "metadata": {},
     "output_type": "execute_result"
    }
   ],
   "source": [
    "df['_BMI5'].describe()"
   ]
  },
  {
   "cell_type": "markdown",
   "id": "39801417",
   "metadata": {
    "id": "39801417"
   },
   "source": [
    "##### '_BMI5' has 41357 NaN values and extreme high and low values, replace NaN with the median and take the logarithm."
   ]
  },
  {
   "cell_type": "code",
   "execution_count": 19,
   "id": "15a12571",
   "metadata": {
    "executionInfo": {
     "elapsed": 384,
     "status": "ok",
     "timestamp": 1657612837215,
     "user": {
      "displayName": "Anton Deviatko",
      "userId": "00531245545175335141"
     },
     "user_tz": -180
    },
    "id": "15a12571"
   },
   "outputs": [],
   "source": [
    "df['_BMI5'].fillna((df['_BMI5'].median()), inplace = True)"
   ]
  },
  {
   "cell_type": "code",
   "execution_count": 20,
   "id": "8c333967",
   "metadata": {
    "executionInfo": {
     "elapsed": 515,
     "status": "ok",
     "timestamp": 1657613375217,
     "user": {
      "displayName": "Anton Deviatko",
      "userId": "00531245545175335141"
     },
     "user_tz": -180
    },
    "id": "8c333967"
   },
   "outputs": [],
   "source": [
    "df['BMI_LOG'] = np.log(df['_BMI5'])"
   ]
  },
  {
   "cell_type": "code",
   "execution_count": 21,
   "id": "f924910e",
   "metadata": {
    "colab": {
     "base_uri": "https://localhost:8080/",
     "height": 387
    },
    "executionInfo": {
     "elapsed": 1392,
     "status": "ok",
     "timestamp": 1657613387813,
     "user": {
      "displayName": "Anton Deviatko",
      "userId": "00531245545175335141"
     },
     "user_tz": -180
    },
    "id": "f924910e",
    "outputId": "d534c7cd-d0bd-4727-e9af-5280ceafc6ce"
   },
   "outputs": [
    {
     "data": {
      "text/plain": [
       "<seaborn.axisgrid.FacetGrid at 0x7ff24ffa5eb0>"
      ]
     },
     "execution_count": 21,
     "metadata": {},
     "output_type": "execute_result"
    },
    {
     "data": {
      "image/png": "[encoded data removed]",
      "text/plain": [
       "<Figure size 412x360 with 1 Axes>"
      ]
     },
     "metadata": {
      "needs_background": "light"
     },
     "output_type": "display_data"
    }
   ],
   "source": [
    "sns.displot(x = df['BMI_LOG'], hue = '_MICHD', data = df,  bins = 40)"
   ]
  },
  {
   "cell_type": "code",
   "execution_count": 22,
   "id": "6accb8f0",
   "metadata": {
    "colab": {
     "base_uri": "https://localhost:8080/"
    },
    "executionInfo": {
     "elapsed": 421,
     "status": "ok",
     "timestamp": 1657613377280,
     "user": {
      "displayName": "Anton Deviatko",
      "userId": "00531245545175335141"
     },
     "user_tz": -180
    },
    "id": "6accb8f0",
    "outputId": "24f57770-b2ef-42e6-c743-f5bb61cdbff4"
   },
   "outputs": [
    {
     "data": {
      "text/plain": [
       "count    401958.000000\n",
       "mean          7.923940\n",
       "std           0.200013\n",
       "min           7.091742\n",
       "25%           7.798523\n",
       "50%           7.912789\n",
       "75%           8.034307\n",
       "max           9.194516\n",
       "Name: BMI_LOG, dtype: float64"
      ]
     },
     "execution_count": 22,
     "metadata": {},
     "output_type": "execute_result"
    }
   ],
   "source": [
    "df['BMI_LOG'].describe()"
   ]
  },
  {
   "cell_type": "code",
   "execution_count": 23,
   "id": "286eb297",
   "metadata": {
    "executionInfo": {
     "elapsed": 515,
     "status": "ok",
     "timestamp": 1657613414545,
     "user": {
      "displayName": "Anton Deviatko",
      "userId": "00531245545175335141"
     },
     "user_tz": -180
    },
    "id": "286eb297"
   },
   "outputs": [],
   "source": [
    "df = df.drop(['_BMI5'], axis=1)"
   ]
  },
  {
   "cell_type": "markdown",
   "id": "2c07a658",
   "metadata": {
    "id": "2c07a658"
   },
   "source": [
    "#### '_TOTINDA'\n",
    "##### Adults who reported doing physical activity."
   ]
  },
  {
   "cell_type": "code",
   "execution_count": 24,
   "id": "6dada093",
   "metadata": {
    "colab": {
     "base_uri": "https://localhost:8080/"
    },
    "executionInfo": {
     "elapsed": 419,
     "status": "ok",
     "timestamp": 1657613424480,
     "user": {
      "displayName": "Anton Deviatko",
      "userId": "00531245545175335141"
     },
     "user_tz": -180
    },
    "id": "6dada093",
    "outputId": "815ba942-94cf-49bb-c676-e006c2c893fb"
   },
   "outputs": [
    {
     "data": {
      "text/plain": [
       "_TOTINDA\n",
       "1.0    305883\n",
       "2.0     95393\n",
       "9.0       682\n",
       "Name: _TOTINDA, dtype: int64"
      ]
     },
     "execution_count": 24,
     "metadata": {},
     "output_type": "execute_result"
    }
   ],
   "source": [
    "df.groupby(['_TOTINDA'])['_TOTINDA'].count()"
   ]
  },
  {
   "cell_type": "markdown",
   "id": "eadf7196",
   "metadata": {
    "id": "eadf7196"
   },
   "source": [
    "##### Make the values '1' or '0' and remove the missing value (encoded '9')."
   ]
  },
  {
   "cell_type": "code",
   "execution_count": 25,
   "id": "f25a4630",
   "metadata": {
    "id": "f25a4630"
   },
   "outputs": [],
   "source": [
    "df = df.replace({'_TOTINDA':{2:0}})\n",
    "df = df.drop(df[df['_TOTINDA'] == 9].index)"
   ]
  },
  {
   "cell_type": "code",
   "execution_count": 26,
   "id": "9074ece6",
   "metadata": {
    "colab": {
     "base_uri": "https://localhost:8080/"
    },
    "executionInfo": {
     "elapsed": 392,
     "status": "ok",
     "timestamp": 1657613527888,
     "user": {
      "displayName": "Anton Deviatko",
      "userId": "00531245545175335141"
     },
     "user_tz": -180
    },
    "id": "9074ece6",
    "outputId": "bb81ade9-7aaa-4d2b-dd81-ee825f82963d"
   },
   "outputs": [
    {
     "data": {
      "text/plain": [
       "_TOTINDA\n",
       "0.0     95393\n",
       "1.0    305883\n",
       "Name: _TOTINDA, dtype: int64"
      ]
     },
     "execution_count": 26,
     "metadata": {},
     "output_type": "execute_result"
    }
   ],
   "source": [
    "df.groupby(['_TOTINDA'])['_TOTINDA'].count()"
   ]
  },
  {
   "cell_type": "markdown",
   "id": "8e829da7",
   "metadata": {
    "id": "8e829da7"
   },
   "source": [
    "#### 'GENHLTH'\n",
    "##### Self-reported health from '1' to '5'."
   ]
  },
  {
   "cell_type": "code",
   "execution_count": 27,
   "id": "215f8287",
   "metadata": {
    "colab": {
     "base_uri": "https://localhost:8080/"
    },
    "executionInfo": {
     "elapsed": 402,
     "status": "ok",
     "timestamp": 1657613567286,
     "user": {
      "displayName": "Anton Deviatko",
      "userId": "00531245545175335141"
     },
     "user_tz": -180
    },
    "id": "215f8287",
    "outputId": "7f120f29-bebc-44d5-9a06-1b3709c24cf9"
   },
   "outputs": [
    {
     "data": {
      "text/plain": [
       "GENHLTH\n",
       "1.0     81579\n",
       "2.0    137999\n",
       "3.0    119272\n",
       "4.0     46111\n",
       "5.0     15390\n",
       "7.0       640\n",
       "9.0       280\n",
       "Name: GENHLTH, dtype: int64"
      ]
     },
     "execution_count": 27,
     "metadata": {},
     "output_type": "execute_result"
    }
   ],
   "source": [
    "df.groupby(['GENHLTH'])['GENHLTH'].count()"
   ]
  },
  {
   "cell_type": "code",
   "execution_count": 28,
   "id": "8cb21e79",
   "metadata": {
    "colab": {
     "base_uri": "https://localhost:8080/",
     "height": 387
    },
    "executionInfo": {
     "elapsed": 2526,
     "status": "ok",
     "timestamp": 1657613579209,
     "user": {
      "displayName": "Anton Deviatko",
      "userId": "00531245545175335141"
     },
     "user_tz": -180
    },
    "id": "8cb21e79",
    "outputId": "83dfb027-eb00-4797-b5e5-43b87db10fd9"
   },
   "outputs": [
    {
     "data": {
      "text/plain": [
       "<seaborn.axisgrid.FacetGrid at 0x7ff2fe8b7c10>"
      ]
     },
     "execution_count": 28,
     "metadata": {},
     "output_type": "execute_result"
    },
    {
     "data": {
      "image/png": "[encoded data removed]",
      "text/plain": [
       "<Figure size 412x360 with 1 Axes>"
      ]
     },
     "metadata": {
      "needs_background": "light"
     },
     "output_type": "display_data"
    }
   ],
   "source": [
    "sns.displot(x = df['GENHLTH'], hue = '_MICHD', data = df,  bins = 9)"
   ]
  },
  {
   "cell_type": "markdown",
   "id": "b66485a0",
   "metadata": {
    "id": "b66485a0"
   },
   "source": [
    "##### Remove the missing values (encoded '7' & '9')."
   ]
  },
  {
   "cell_type": "code",
   "execution_count": 29,
   "id": "a7205520",
   "metadata": {
    "colab": {
     "base_uri": "https://localhost:8080/"
    },
    "executionInfo": {
     "elapsed": 401,
     "status": "ok",
     "timestamp": 1657613608863,
     "user": {
      "displayName": "Anton Deviatko",
      "userId": "00531245545175335141"
     },
     "user_tz": -180
    },
    "id": "a7205520",
    "outputId": "47abc4e6-a5fd-40bb-e498-047a61b83c2d"
   },
   "outputs": [
    {
     "data": {
      "text/plain": [
       "GENHLTH\n",
       "1.0     81579\n",
       "2.0    137999\n",
       "3.0    119272\n",
       "4.0     46111\n",
       "5.0     15390\n",
       "Name: GENHLTH, dtype: int64"
      ]
     },
     "execution_count": 29,
     "metadata": {},
     "output_type": "execute_result"
    }
   ],
   "source": [
    "df = df.drop(df[df['GENHLTH'] == 7].index)\n",
    "df = df.drop(df[df['GENHLTH'] == 9].index)\n",
    "df.groupby(['GENHLTH'])['GENHLTH'].count()"
   ]
  },
  {
   "cell_type": "markdown",
   "id": "26116c11",
   "metadata": {
    "id": "26116c11"
   },
   "source": [
    "#### 'SLEPTIM1'\n",
    "##### Hours of sleep."
   ]
  },
  {
   "cell_type": "code",
   "execution_count": 30,
   "id": "6a236760",
   "metadata": {
    "colab": {
     "base_uri": "https://localhost:8080/"
    },
    "executionInfo": {
     "elapsed": 370,
     "status": "ok",
     "timestamp": 1657613631684,
     "user": {
      "displayName": "Anton Deviatko",
      "userId": "00531245545175335141"
     },
     "user_tz": -180
    },
    "id": "6a236760",
    "outputId": "83a2a5ab-98d9-49c1-f107-02715d2b81cd"
   },
   "outputs": [
    {
     "data": {
      "text/plain": [
       "SLEPTIM1\n",
       "1.0        758\n",
       "2.0       1092\n",
       "3.0       2659\n",
       "4.0       9920\n",
       "5.0      24320\n",
       "6.0      82331\n",
       "7.0     118528\n",
       "8.0     121836\n",
       "9.0      19763\n",
       "10.0      9921\n",
       "11.0       589\n",
       "12.0      2844\n",
       "13.0       139\n",
       "14.0       307\n",
       "15.0       255\n",
       "16.0       303\n",
       "17.0        26\n",
       "18.0       139\n",
       "19.0         6\n",
       "20.0        90\n",
       "21.0         2\n",
       "22.0        13\n",
       "23.0         9\n",
       "24.0        53\n",
       "77.0      3954\n",
       "99.0       499\n",
       "Name: SLEPTIM1, dtype: int64"
      ]
     },
     "execution_count": 30,
     "metadata": {},
     "output_type": "execute_result"
    }
   ],
   "source": [
    "df.groupby(['SLEPTIM1'])['SLEPTIM1'].count()"
   ]
  },
  {
   "cell_type": "code",
   "execution_count": 31,
   "id": "2a9919d3",
   "metadata": {
    "colab": {
     "base_uri": "https://localhost:8080/",
     "height": 387
    },
    "executionInfo": {
     "elapsed": 2203,
     "status": "ok",
     "timestamp": 1657613644285,
     "user": {
      "displayName": "Anton Deviatko",
      "userId": "00531245545175335141"
     },
     "user_tz": -180
    },
    "id": "2a9919d3",
    "outputId": "34a6eb52-b2aa-46c7-ff3f-20e31be2006d"
   },
   "outputs": [
    {
     "data": {
      "text/plain": [
       "<seaborn.axisgrid.FacetGrid at 0x7ff31d8e88b0>"
      ]
     },
     "execution_count": 31,
     "metadata": {},
     "output_type": "execute_result"
    },
    {
     "data": {
      "image/png": "[encoded data removed]",
      "text/plain": [
       "<Figure size 412x360 with 1 Axes>"
      ]
     },
     "metadata": {
      "needs_background": "light"
     },
     "output_type": "display_data"
    }
   ],
   "source": [
    "sns.displot(x = df['SLEPTIM1'], hue = '_MICHD', data = df,  bins = 30)"
   ]
  },
  {
   "cell_type": "markdown",
   "id": "04aa69f7",
   "metadata": {
    "id": "04aa69f7"
   },
   "source": [
    "##### \"SLEPTIM1\" has 4,5k NaN values (encoded '77' & '99') and extreme high and low values (1 & 24 hours of sleep), replace NaN with the median value take the logarithm."
   ]
  },
  {
   "cell_type": "code",
   "execution_count": 32,
   "id": "f945b729",
   "metadata": {
    "id": "f945b729"
   },
   "outputs": [],
   "source": [
    "median_sleeptime = df['SLEPTIM1'].median()\n",
    "df = df.replace({'SLEPTIM1':{77:median_sleeptime, 99:median_sleeptime}})\n",
    "df['SLEEP_LOG'] = np.log(df['SLEPTIM1'])"
   ]
  },
  {
   "cell_type": "code",
   "execution_count": 33,
   "id": "5310363e",
   "metadata": {
    "colab": {
     "base_uri": "https://localhost:8080/",
     "height": 387
    },
    "executionInfo": {
     "elapsed": 1405,
     "status": "ok",
     "timestamp": 1657613909844,
     "user": {
      "displayName": "Anton Deviatko",
      "userId": "00531245545175335141"
     },
     "user_tz": -180
    },
    "id": "5310363e",
    "outputId": "447d43b7-297a-4ac4-f227-bb2065a5e4b7"
   },
   "outputs": [
    {
     "data": {
      "text/plain": [
       "<seaborn.axisgrid.FacetGrid at 0x7ff2effbcfd0>"
      ]
     },
     "execution_count": 33,
     "metadata": {},
     "output_type": "execute_result"
    },
    {
     "data": {
      "image/png": "[encoded data removed]",
      "text/plain": [
       "<Figure size 412x360 with 1 Axes>"
      ]
     },
     "metadata": {
      "needs_background": "light"
     },
     "output_type": "display_data"
    }
   ],
   "source": [
    "sns.displot(x = df['SLEEP_LOG'], hue = '_MICHD', data = df,  bins = 12)"
   ]
  },
  {
   "cell_type": "code",
   "execution_count": 34,
   "id": "bcb327cd",
   "metadata": {
    "executionInfo": {
     "elapsed": 395,
     "status": "ok",
     "timestamp": 1657613923950,
     "user": {
      "displayName": "Anton Deviatko",
      "userId": "00531245545175335141"
     },
     "user_tz": -180
    },
    "id": "bcb327cd"
   },
   "outputs": [],
   "source": [
    "df = df.drop(['SLEPTIM1'], axis=1)"
   ]
  },
  {
   "cell_type": "markdown",
   "id": "b671d20a",
   "metadata": {
    "id": "b671d20a"
   },
   "source": [
    "#### 'CVDSTRK3'\n",
    "##### Ever Diagnosed with a Stroke."
   ]
  },
  {
   "cell_type": "code",
   "execution_count": 35,
   "id": "bb20c03b",
   "metadata": {
    "colab": {
     "base_uri": "https://localhost:8080/"
    },
    "executionInfo": {
     "elapsed": 419,
     "status": "ok",
     "timestamp": 1657613978604,
     "user": {
      "displayName": "Anton Deviatko",
      "userId": "00531245545175335141"
     },
     "user_tz": -180
    },
    "id": "bb20c03b",
    "outputId": "be7102db-62f3-4248-fa87-e4f387fe9093"
   },
   "outputs": [
    {
     "data": {
      "text/plain": [
       "CVDSTRK3\n",
       "1.0     15537\n",
       "2.0    383705\n",
       "7.0       869\n",
       "9.0       245\n",
       "Name: CVDSTRK3, dtype: int64"
      ]
     },
     "execution_count": 35,
     "metadata": {},
     "output_type": "execute_result"
    }
   ],
   "source": [
    "df.groupby(['CVDSTRK3'])['CVDSTRK3'].count()"
   ]
  },
  {
   "cell_type": "markdown",
   "id": "95ee4f25",
   "metadata": {
    "id": "95ee4f25"
   },
   "source": [
    "##### Missed values (encoded '7' & '9') in order not to lose the rest of values replace not confirmed values with '0'."
   ]
  },
  {
   "cell_type": "code",
   "execution_count": 36,
   "id": "b1c5a625",
   "metadata": {
    "colab": {
     "base_uri": "https://localhost:8080/"
    },
    "executionInfo": {
     "elapsed": 399,
     "status": "ok",
     "timestamp": 1657613991373,
     "user": {
      "displayName": "Anton Deviatko",
      "userId": "00531245545175335141"
     },
     "user_tz": -180
    },
    "id": "b1c5a625",
    "outputId": "92334a19-9df3-4e40-baa2-6572980e327b"
   },
   "outputs": [
    {
     "data": {
      "text/plain": [
       "CVDSTRK3\n",
       "0.0    384819\n",
       "1.0     15537\n",
       "Name: CVDSTRK3, dtype: int64"
      ]
     },
     "execution_count": 36,
     "metadata": {},
     "output_type": "execute_result"
    }
   ],
   "source": [
    "df.loc[df['CVDSTRK3'] != 1, 'CVDSTRK3'] = 0\n",
    "df.groupby(['CVDSTRK3'])['CVDSTRK3'].count()"
   ]
  },
  {
   "cell_type": "code",
   "execution_count": 37,
   "id": "af199268",
   "metadata": {
    "colab": {
     "base_uri": "https://localhost:8080/",
     "height": 387
    },
    "executionInfo": {
     "elapsed": 1535,
     "status": "ok",
     "timestamp": 1657614004047,
     "user": {
      "displayName": "Anton Deviatko",
      "userId": "00531245545175335141"
     },
     "user_tz": -180
    },
    "id": "af199268",
    "outputId": "0fcfe2a7-a799-41c3-fff0-1f0727a7875e"
   },
   "outputs": [
    {
     "data": {
      "text/plain": [
       "<seaborn.axisgrid.FacetGrid at 0x7ff277eb2670>"
      ]
     },
     "execution_count": 37,
     "metadata": {},
     "output_type": "execute_result"
    },
    {
     "data": {
      "image/png": "[encoded data removed]",
      "text/plain": [
       "<Figure size 412x360 with 1 Axes>"
      ]
     },
     "metadata": {
      "needs_background": "light"
     },
     "output_type": "display_data"
    }
   ],
   "source": [
    "sns.displot(x = df['CVDSTRK3'], hue = '_MICHD', data = df,  bins = 5)"
   ]
  },
  {
   "cell_type": "markdown",
   "id": "b86a01a5",
   "metadata": {
    "id": "b86a01a5"
   },
   "source": [
    "#### 'DIABETE4'\n",
    "##### Ever Diagnosed with a Diabetes."
   ]
  },
  {
   "cell_type": "code",
   "execution_count": 38,
   "id": "9203d00a",
   "metadata": {
    "colab": {
     "base_uri": "https://localhost:8080/",
     "height": 387
    },
    "executionInfo": {
     "elapsed": 1724,
     "status": "ok",
     "timestamp": 1657614061656,
     "user": {
      "displayName": "Anton Deviatko",
      "userId": "00531245545175335141"
     },
     "user_tz": -180
    },
    "id": "9203d00a",
    "outputId": "0b98d2a0-df18-4e03-ef5f-a4224a488b03"
   },
   "outputs": [
    {
     "data": {
      "text/plain": [
       "<seaborn.axisgrid.FacetGrid at 0x7ff259a21fa0>"
      ]
     },
     "execution_count": 38,
     "metadata": {},
     "output_type": "execute_result"
    },
    {
     "data": {
      "image/png": "[encoded data removed]",
      "text/plain": [
       "<Figure size 412x360 with 1 Axes>"
      ]
     },
     "metadata": {
      "needs_background": "light"
     },
     "output_type": "display_data"
    }
   ],
   "source": [
    "sns.displot(x = df['DIABETE4'], hue = '_MICHD', data = df,  bins = 10)"
   ]
  },
  {
   "cell_type": "code",
   "execution_count": 39,
   "id": "e344bd24",
   "metadata": {
    "colab": {
     "base_uri": "https://localhost:8080/"
    },
    "executionInfo": {
     "elapsed": 433,
     "status": "ok",
     "timestamp": 1657614015243,
     "user": {
      "displayName": "Anton Deviatko",
      "userId": "00531245545175335141"
     },
     "user_tz": -180
    },
    "id": "e344bd24",
    "outputId": "b7374549-6156-4e4e-d9a3-3e02c9949184"
   },
   "outputs": [
    {
     "data": {
      "text/plain": [
       "DIABETE4\n",
       "1.0     51808\n",
       "2.0      3359\n",
       "3.0    335866\n",
       "4.0      8574\n",
       "7.0       479\n",
       "9.0       267\n",
       "Name: DIABETE4, dtype: int64"
      ]
     },
     "execution_count": 39,
     "metadata": {},
     "output_type": "execute_result"
    }
   ],
   "source": [
    "df.groupby(['DIABETE4'])['DIABETE4'].count()"
   ]
  },
  {
   "cell_type": "markdown",
   "id": "2948650a",
   "metadata": {
    "id": "2948650a"
   },
   "source": [
    "'7' & '9' - missed and NaN values, '2' -  female Diabetes only during pregnancy, '3' - No, '4' - No, pre-diabetes or borderline diabetes, in order not to lose the rest of values replace all values with '0'."
   ]
  },
  {
   "cell_type": "code",
   "execution_count": 40,
   "id": "b1b4f76e",
   "metadata": {
    "colab": {
     "base_uri": "https://localhost:8080/"
    },
    "executionInfo": {
     "elapsed": 7,
     "status": "ok",
     "timestamp": 1657614110268,
     "user": {
      "displayName": "Anton Deviatko",
      "userId": "00531245545175335141"
     },
     "user_tz": -180
    },
    "id": "b1b4f76e",
    "outputId": "c7dde7a6-5c73-46da-a68f-fe07603b4db2"
   },
   "outputs": [
    {
     "data": {
      "text/plain": [
       "DIABETE4\n",
       "0.0    348548\n",
       "1.0     51808\n",
       "Name: DIABETE4, dtype: int64"
      ]
     },
     "execution_count": 40,
     "metadata": {},
     "output_type": "execute_result"
    }
   ],
   "source": [
    "df.loc[df['DIABETE4'] != 1, 'DIABETE4'] = 0\n",
    "df.groupby(['DIABETE4'])['DIABETE4'].count()"
   ]
  },
  {
   "cell_type": "code",
   "execution_count": 41,
   "id": "MLw7frIagFIh",
   "metadata": {
    "colab": {
     "base_uri": "https://localhost:8080/",
     "height": 387
    },
    "executionInfo": {
     "elapsed": 1698,
     "status": "ok",
     "timestamp": 1657614131855,
     "user": {
      "displayName": "Anton Deviatko",
      "userId": "00531245545175335141"
     },
     "user_tz": -180
    },
    "id": "MLw7frIagFIh",
    "outputId": "5c5a8543-83c8-4b4a-cb01-750dc29997c1"
   },
   "outputs": [
    {
     "data": {
      "text/plain": [
       "<seaborn.axisgrid.FacetGrid at 0x7ff259967a00>"
      ]
     },
     "execution_count": 41,
     "metadata": {},
     "output_type": "execute_result"
    },
    {
     "data": {
      "image/png": "[encoded data removed]",
      "text/plain": [
       "<Figure size 412x360 with 1 Axes>"
      ]
     },
     "metadata": {
      "needs_background": "light"
     },
     "output_type": "display_data"
    }
   ],
   "source": [
    "sns.displot(x = df['DIABETE4'], hue = '_MICHD', data = df,  bins = 10)"
   ]
  },
  {
   "cell_type": "markdown",
   "id": "6716c7c0",
   "metadata": {
    "id": "6716c7c0"
   },
   "source": [
    "#### 'LASTDEN4'\n",
    "##### Last Visited Dentist or Dental Clinic."
   ]
  },
  {
   "cell_type": "code",
   "execution_count": 42,
   "id": "8dbe41ae",
   "metadata": {
    "colab": {
     "base_uri": "https://localhost:8080/",
     "height": 387
    },
    "executionInfo": {
     "elapsed": 1843,
     "status": "ok",
     "timestamp": 1657614158068,
     "user": {
      "displayName": "Anton Deviatko",
      "userId": "00531245545175335141"
     },
     "user_tz": -180
    },
    "id": "8dbe41ae",
    "outputId": "92a03c61-d9a2-47a3-c239-ddeac33e846f"
   },
   "outputs": [
    {
     "data": {
      "text/plain": [
       "<seaborn.axisgrid.FacetGrid at 0x7ff24feebd90>"
      ]
     },
     "execution_count": 42,
     "metadata": {},
     "output_type": "execute_result"
    },
    {
     "data": {
      "image/png": "[encoded data removed]",
      "text/plain": [
       "<Figure size 412x360 with 1 Axes>"
      ]
     },
     "metadata": {
      "needs_background": "light"
     },
     "output_type": "display_data"
    }
   ],
   "source": [
    "sns.displot(x = df['LASTDEN4'], hue = '_MICHD', data = df,   bins = 10)"
   ]
  },
  {
   "cell_type": "code",
   "execution_count": 43,
   "id": "f999d6ff",
   "metadata": {
    "colab": {
     "base_uri": "https://localhost:8080/"
    },
    "executionInfo": {
     "elapsed": 383,
     "status": "ok",
     "timestamp": 1657614145469,
     "user": {
      "displayName": "Anton Deviatko",
      "userId": "00531245545175335141"
     },
     "user_tz": -180
    },
    "id": "f999d6ff",
    "outputId": "6660fbd4-d7ac-4d43-adce-ac1da795999a",
    "scrolled": true
   },
   "outputs": [
    {
     "data": {
      "text/plain": [
       "LASTDEN4\n",
       "1.0    266287\n",
       "2.0     49497\n",
       "3.0     36255\n",
       "4.0     41575\n",
       "7.0      4075\n",
       "8.0      2239\n",
       "9.0       424\n",
       "Name: LASTDEN4, dtype: int64"
      ]
     },
     "execution_count": 43,
     "metadata": {},
     "output_type": "execute_result"
    }
   ],
   "source": [
    "df.groupby(['LASTDEN4'])['LASTDEN4'].count()"
   ]
  },
  {
   "cell_type": "markdown",
   "id": "efac98c1",
   "metadata": {
    "id": "efac98c1"
   },
   "source": [
    "##### There is a relationship between the values: the higher the value, the less often the respondent visited the dentist. 7 - 9 - missed, raplace these rows with average."
   ]
  },
  {
   "cell_type": "code",
   "execution_count": 44,
   "id": "6c0f3029",
   "metadata": {
    "id": "6c0f3029"
   },
   "outputs": [],
   "source": [
    "df = df.replace({'LASTDEN4':{7:df['LASTDEN4'].mean(), 8:df['LASTDEN4'].mean(), 9:df['LASTDEN4'].mean()}})"
   ]
  },
  {
   "cell_type": "markdown",
   "id": "b34336b4",
   "metadata": {
    "id": "b34336b4"
   },
   "source": [
    "#### 'RMVTETH4'\n",
    "##### Number of Permanent Teeth Removed."
   ]
  },
  {
   "cell_type": "code",
   "execution_count": 45,
   "id": "003f52ac",
   "metadata": {
    "colab": {
     "base_uri": "https://localhost:8080/",
     "height": 387
    },
    "executionInfo": {
     "elapsed": 1752,
     "status": "ok",
     "timestamp": 1657614232866,
     "user": {
      "displayName": "Anton Deviatko",
      "userId": "00531245545175335141"
     },
     "user_tz": -180
    },
    "id": "003f52ac",
    "outputId": "371a5879-bfea-452e-d7a7-a2000d03d4ff"
   },
   "outputs": [
    {
     "data": {
      "text/plain": [
       "<seaborn.axisgrid.FacetGrid at 0x7ff2704790d0>"
      ]
     },
     "execution_count": 45,
     "metadata": {},
     "output_type": "execute_result"
    },
    {
     "data": {
      "image/png": "[encoded data removed]",
      "text/plain": [
       "<Figure size 412x360 with 1 Axes>"
      ]
     },
     "metadata": {
      "needs_background": "light"
     },
     "output_type": "display_data"
    }
   ],
   "source": [
    "sns.displot(x = df['RMVTETH4'], hue = '_MICHD', data = df,   bins = 7)"
   ]
  },
  {
   "cell_type": "code",
   "execution_count": 46,
   "id": "8f3b9fd2",
   "metadata": {
    "colab": {
     "base_uri": "https://localhost:8080/"
    },
    "executionInfo": {
     "elapsed": 505,
     "status": "ok",
     "timestamp": 1657614215501,
     "user": {
      "displayName": "Anton Deviatko",
      "userId": "00531245545175335141"
     },
     "user_tz": -180
    },
    "id": "8f3b9fd2",
    "outputId": "698c62a3-a7c7-4b81-9a48-3bb839ea71cc"
   },
   "outputs": [
    {
     "data": {
      "text/plain": [
       "RMVTETH4\n",
       "1.0    115906\n",
       "2.0     41645\n",
       "3.0     24560\n",
       "7.0      8703\n",
       "8.0    208641\n",
       "9.0       897\n",
       "Name: RMVTETH4, dtype: int64"
      ]
     },
     "execution_count": 46,
     "metadata": {},
     "output_type": "execute_result"
    }
   ],
   "source": [
    "df.groupby(['RMVTETH4'])['RMVTETH4'].count()"
   ]
  },
  {
   "cell_type": "markdown",
   "id": "bc83403f",
   "metadata": {
    "id": "bc83403f"
   },
   "source": [
    "##### Lots of missing values ('8') given the uniform distribution of the remaining values. Remove this feature."
   ]
  },
  {
   "cell_type": "code",
   "execution_count": 47,
   "id": "e89b8568",
   "metadata": {
    "executionInfo": {
     "elapsed": 588,
     "status": "ok",
     "timestamp": 1657614259323,
     "user": {
      "displayName": "Anton Deviatko",
      "userId": "00531245545175335141"
     },
     "user_tz": -180
    },
    "id": "e89b8568"
   },
   "outputs": [],
   "source": [
    "df = df.drop(['RMVTETH4'], axis=1)"
   ]
  },
  {
   "cell_type": "markdown",
   "id": "768c3437",
   "metadata": {
    "id": "768c3437"
   },
   "source": [
    "#### 'MARITAL'\n",
    "##### Marital status ('1' Married, '2' Divorced, '3' Widowed, '4' Separated, '5' Never married, '6' unmarried couple )."
   ]
  },
  {
   "cell_type": "code",
   "execution_count": 48,
   "id": "79421265",
   "metadata": {
    "colab": {
     "base_uri": "https://localhost:8080/",
     "height": 387
    },
    "executionInfo": {
     "elapsed": 1438,
     "status": "ok",
     "timestamp": 1657614285566,
     "user": {
      "displayName": "Anton Deviatko",
      "userId": "00531245545175335141"
     },
     "user_tz": -180
    },
    "id": "79421265",
    "outputId": "cc0c495e-e804-498d-ee13-196124597d75"
   },
   "outputs": [
    {
     "data": {
      "text/plain": [
       "<seaborn.axisgrid.FacetGrid at 0x7ff24f3f6a00>"
      ]
     },
     "execution_count": 48,
     "metadata": {},
     "output_type": "execute_result"
    },
    {
     "data": {
      "image/png": "[encoded data removed]",
      "text/plain": [
       "<Figure size 412x360 with 1 Axes>"
      ]
     },
     "metadata": {
      "needs_background": "light"
     },
     "output_type": "display_data"
    }
   ],
   "source": [
    "sns.displot(x = df['MARITAL'], hue = '_MICHD', data = df,   bins = 9)"
   ]
  },
  {
   "cell_type": "code",
   "execution_count": 49,
   "id": "57c2d45e",
   "metadata": {
    "colab": {
     "base_uri": "https://localhost:8080/"
    },
    "executionInfo": {
     "elapsed": 391,
     "status": "ok",
     "timestamp": 1657614288907,
     "user": {
      "displayName": "Anton Deviatko",
      "userId": "00531245545175335141"
     },
     "user_tz": -180
    },
    "id": "57c2d45e",
    "outputId": "c282a1df-fca8-46a2-bd1e-fc4d0dd55021"
   },
   "outputs": [
    {
     "data": {
      "text/plain": [
       "MARITAL\n",
       "1.0    206753\n",
       "2.0     51652\n",
       "3.0     43371\n",
       "4.0      7927\n",
       "5.0     71767\n",
       "6.0     15209\n",
       "9.0      3668\n",
       "Name: MARITAL, dtype: int64"
      ]
     },
     "execution_count": 49,
     "metadata": {},
     "output_type": "execute_result"
    }
   ],
   "source": [
    "df.groupby(['MARITAL'])['MARITAL'].count()"
   ]
  },
  {
   "cell_type": "markdown",
   "id": "bd69640e",
   "metadata": {
    "id": "bd69640e"
   },
   "source": [
    "##### Given that this is categorical data and some categories (widowers) has a pronounced dependence: do One Hot Encoding. Remove missing values ('9')."
   ]
  },
  {
   "cell_type": "code",
   "execution_count": 50,
   "id": "47f75116",
   "metadata": {
    "executionInfo": {
     "elapsed": 389,
     "status": "ok",
     "timestamp": 1657614399216,
     "user": {
      "displayName": "Anton Deviatko",
      "userId": "00531245545175335141"
     },
     "user_tz": -180
    },
    "id": "47f75116"
   },
   "outputs": [
    {
     "data": {
      "text/plain": [
       "MARITAL\n",
       "DIVRSD       51652\n",
       "MARRD       206753\n",
       "NEVMRRD      71767\n",
       "SEPRTD        7927\n",
       "UNMCOUPL     15209\n",
       "WIDWD        43371\n",
       "Name: MARITAL, dtype: int64"
      ]
     },
     "execution_count": 50,
     "metadata": {},
     "output_type": "execute_result"
    }
   ],
   "source": [
    "df = df.drop(df[df['MARITAL'] == 9].index)\n",
    "df = df.dropna(subset=['MARITAL']) # remove 12 rows with NaN\n",
    "df = df.replace({'MARITAL':{1:'MARRD', 2:'DIVRSD',3:'WIDWD',4:'SEPRTD',5:'NEVMRRD',6:'UNMCOUPL'}})\n",
    "df.groupby(['MARITAL'])['MARITAL'].count()"
   ]
  },
  {
   "cell_type": "code",
   "execution_count": 51,
   "id": "75805669",
   "metadata": {
    "executionInfo": {
     "elapsed": 4,
     "status": "ok",
     "timestamp": 1657614400118,
     "user": {
      "displayName": "Anton Deviatko",
      "userId": "00531245545175335141"
     },
     "user_tz": -180
    },
    "id": "75805669"
   },
   "outputs": [],
   "source": [
    "dummy_marital = pd.get_dummies(df['MARITAL'])\n",
    "df = pd.merge(left = df,right = dummy_marital, left_index = True, right_index = True)\n",
    "df = df.drop(['MARITAL'], axis = 1)"
   ]
  },
  {
   "cell_type": "markdown",
   "id": "f472978c",
   "metadata": {
    "id": "f472978c"
   },
   "source": [
    "#### '_EDUCAG'\n",
    "##### Level of education."
   ]
  },
  {
   "cell_type": "code",
   "execution_count": 53,
   "id": "c53b1617",
   "metadata": {
    "colab": {
     "base_uri": "https://localhost:8080/",
     "height": 387
    },
    "executionInfo": {
     "elapsed": 1932,
     "status": "ok",
     "timestamp": 1657614487242,
     "user": {
      "displayName": "Anton Deviatko",
      "userId": "00531245545175335141"
     },
     "user_tz": -180
    },
    "id": "c53b1617",
    "outputId": "e5d34d23-274f-4429-c028-4aa855298640"
   },
   "outputs": [
    {
     "data": {
      "text/plain": [
       "<seaborn.axisgrid.FacetGrid at 0x7ff24f4d69a0>"
      ]
     },
     "execution_count": 53,
     "metadata": {},
     "output_type": "execute_result"
    },
    {
     "data": {
      "image/png": "[encoded data removed]",
      "text/plain": [
       "<Figure size 412x360 with 1 Axes>"
      ]
     },
     "metadata": {
      "needs_background": "light"
     },
     "output_type": "display_data"
    }
   ],
   "source": [
    "sns.displot(x = df['_EDUCAG'], hue = '_MICHD', data = df,   bins = 7)"
   ]
  },
  {
   "cell_type": "markdown",
   "id": "a7728d65",
   "metadata": {
    "id": "a7728d65"
   },
   "source": [
    "##### Better education (the higher the score) has lower proportion of cases. Delete missing lines ('9')."
   ]
  },
  {
   "cell_type": "code",
   "execution_count": 54,
   "id": "cf7c2d46",
   "metadata": {
    "executionInfo": {
     "elapsed": 5,
     "status": "ok",
     "timestamp": 1657614512526,
     "user": {
      "displayName": "Anton Deviatko",
      "userId": "00531245545175335141"
     },
     "user_tz": -180
    },
    "id": "cf7c2d46"
   },
   "outputs": [],
   "source": [
    "df = df.drop(df[df['_EDUCAG'] == 9].index)"
   ]
  },
  {
   "cell_type": "markdown",
   "id": "1648ec8d",
   "metadata": {
    "id": "1648ec8d"
   },
   "source": [
    "#### '_CHLDCNT'\n",
    "##### Number of Children in Household."
   ]
  },
  {
   "cell_type": "code",
   "execution_count": 55,
   "id": "20c54a5a",
   "metadata": {
    "colab": {
     "base_uri": "https://localhost:8080/",
     "height": 387
    },
    "executionInfo": {
     "elapsed": 1886,
     "status": "ok",
     "timestamp": 1657614535863,
     "user": {
      "displayName": "Anton Deviatko",
      "userId": "00531245545175335141"
     },
     "user_tz": -180
    },
    "id": "20c54a5a",
    "outputId": "32d24d82-619b-4fb9-b8a3-7256a09bb8f7"
   },
   "outputs": [
    {
     "data": {
      "text/plain": [
       "<seaborn.axisgrid.FacetGrid at 0x7ff2b0eab6d0>"
      ]
     },
     "execution_count": 55,
     "metadata": {},
     "output_type": "execute_result"
    },
    {
     "data": {
      "image/png": "[encoded data removed]",
      "text/plain": [
       "<Figure size 412x360 with 1 Axes>"
      ]
     },
     "metadata": {
      "needs_background": "light"
     },
     "output_type": "display_data"
    }
   ],
   "source": [
    "sns.displot(x = df['_CHLDCNT'], hue = '_MICHD', data = df,  bins = 9)"
   ]
  },
  {
   "cell_type": "code",
   "execution_count": 56,
   "id": "aaf95194",
   "metadata": {
    "colab": {
     "base_uri": "https://localhost:8080/"
    },
    "executionInfo": {
     "elapsed": 446,
     "status": "ok",
     "timestamp": 1657614546888,
     "user": {
      "displayName": "Anton Deviatko",
      "userId": "00531245545175335141"
     },
     "user_tz": -180
    },
    "id": "aaf95194",
    "outputId": "545877ef-d65f-4561-9a05-2be351b8dfbc"
   },
   "outputs": [
    {
     "data": {
      "text/plain": [
       "_CHLDCNT\n",
       "1.0    284947\n",
       "2.0     42885\n",
       "3.0     35901\n",
       "4.0     15696\n",
       "5.0      5829\n",
       "6.0      3112\n",
       "9.0      7165\n",
       "Name: _CHLDCNT, dtype: int64"
      ]
     },
     "execution_count": 56,
     "metadata": {},
     "output_type": "execute_result"
    }
   ],
   "source": [
    "df.groupby(['_CHLDCNT'])['_CHLDCNT'].count()"
   ]
  },
  {
   "cell_type": "markdown",
   "id": "db7846cc",
   "metadata": {
    "id": "db7846cc"
   },
   "source": [
    "'9' - missing values, replace them with the average value."
   ]
  },
  {
   "cell_type": "code",
   "execution_count": 57,
   "id": "eb3d1fa8",
   "metadata": {
    "executionInfo": {
     "elapsed": 535,
     "status": "ok",
     "timestamp": 1657614570556,
     "user": {
      "displayName": "Anton Deviatko",
      "userId": "00531245545175335141"
     },
     "user_tz": -180
    },
    "id": "eb3d1fa8"
   },
   "outputs": [],
   "source": [
    "df = df.replace({'_CHLDCNT':{9:df['_CHLDCNT'].mean()}})"
   ]
  },
  {
   "cell_type": "markdown",
   "id": "0f45aced",
   "metadata": {
    "id": "0f45aced"
   },
   "source": [
    "#### '_SMOKER3'\n",
    "##### Four-level smoker status."
   ]
  },
  {
   "cell_type": "code",
   "execution_count": 58,
   "id": "08c97561",
   "metadata": {
    "colab": {
     "base_uri": "https://localhost:8080/",
     "height": 387
    },
    "executionInfo": {
     "elapsed": 1528,
     "status": "ok",
     "timestamp": 1657614586062,
     "user": {
      "displayName": "Anton Deviatko",
      "userId": "00531245545175335141"
     },
     "user_tz": -180
    },
    "id": "08c97561",
    "outputId": "ff605534-ba25-4502-c5fe-82a56578f73e"
   },
   "outputs": [
    {
     "data": {
      "text/plain": [
       "<seaborn.axisgrid.FacetGrid at 0x7ff24f480c40>"
      ]
     },
     "execution_count": 58,
     "metadata": {},
     "output_type": "execute_result"
    },
    {
     "data": {
      "image/png": "[encoded data removed]",
      "text/plain": [
       "<Figure size 412x360 with 1 Axes>"
      ]
     },
     "metadata": {
      "needs_background": "light"
     },
     "output_type": "display_data"
    }
   ],
   "source": [
    "sns.displot(x = df['_SMOKER3'], hue = '_MICHD', data = df,  bins = 9)"
   ]
  },
  {
   "cell_type": "code",
   "execution_count": 59,
   "id": "a79ebf1a",
   "metadata": {
    "colab": {
     "base_uri": "https://localhost:8080/"
    },
    "executionInfo": {
     "elapsed": 485,
     "status": "ok",
     "timestamp": 1657614593098,
     "user": {
      "displayName": "Anton Deviatko",
      "userId": "00531245545175335141"
     },
     "user_tz": -180
    },
    "id": "a79ebf1a",
    "outputId": "bff902f6-27ef-4f40-ee72-414adc4e591b"
   },
   "outputs": [
    {
     "data": {
      "text/plain": [
       "_SMOKER3\n",
       "1.0     37645\n",
       "2.0     14120\n",
       "3.0    102668\n",
       "4.0    221201\n",
       "9.0     19901\n",
       "Name: _SMOKER3, dtype: int64"
      ]
     },
     "execution_count": 59,
     "metadata": {},
     "output_type": "execute_result"
    }
   ],
   "source": [
    "df.groupby(['_SMOKER3'])['_SMOKER3'].count()"
   ]
  },
  {
   "cell_type": "markdown",
   "id": "08c4b42e",
   "metadata": {
    "id": "08c4b42e"
   },
   "source": [
    "##### '9' - missing values, replace them with the average value."
   ]
  },
  {
   "cell_type": "code",
   "execution_count": 60,
   "id": "29f9e20e",
   "metadata": {
    "executionInfo": {
     "elapsed": 516,
     "status": "ok",
     "timestamp": 1657614614885,
     "user": {
      "displayName": "Anton Deviatko",
      "userId": "00531245545175335141"
     },
     "user_tz": -180
    },
    "id": "29f9e20e"
   },
   "outputs": [],
   "source": [
    "df=df.replace({'_SMOKER3':{9:df['_SMOKER3'].mean()}})"
   ]
  },
  {
   "cell_type": "markdown",
   "id": "fd54906b",
   "metadata": {
    "id": "fd54906b"
   },
   "source": [
    "#### '_URBSTAT'\n",
    "##### Urban status."
   ]
  },
  {
   "cell_type": "code",
   "execution_count": 61,
   "id": "18f2eb71",
   "metadata": {
    "colab": {
     "base_uri": "https://localhost:8080/",
     "height": 387
    },
    "executionInfo": {
     "elapsed": 1531,
     "status": "ok",
     "timestamp": 1657614635468,
     "user": {
      "displayName": "Anton Deviatko",
      "userId": "00531245545175335141"
     },
     "user_tz": -180
    },
    "id": "18f2eb71",
    "outputId": "f9417e90-3ed7-4832-b41d-9df9364d5fe4"
   },
   "outputs": [
    {
     "data": {
      "text/plain": [
       "<seaborn.axisgrid.FacetGrid at 0x7ff24f534400>"
      ]
     },
     "execution_count": 61,
     "metadata": {},
     "output_type": "execute_result"
    },
    {
     "data": {
      "image/png": "[encoded data removed]",
      "text/plain": [
       "<Figure size 412x360 with 1 Axes>"
      ]
     },
     "metadata": {
      "needs_background": "light"
     },
     "output_type": "display_data"
    }
   ],
   "source": [
    "sns.displot(x = df['_URBSTAT'], hue = '_MICHD', data = df,  bins = 10)"
   ]
  },
  {
   "cell_type": "markdown",
   "id": "d5730c28",
   "metadata": {
    "id": "d5730c28"
   },
   "source": [
    "##### Make '1' and '0' values."
   ]
  },
  {
   "cell_type": "code",
   "execution_count": 62,
   "id": "71063fa9",
   "metadata": {
    "executionInfo": {
     "elapsed": 397,
     "status": "ok",
     "timestamp": 1657614662223,
     "user": {
      "displayName": "Anton Deviatko",
      "userId": "00531245545175335141"
     },
     "user_tz": -180
    },
    "id": "71063fa9"
   },
   "outputs": [],
   "source": [
    "df = df.replace({'_URBSTAT':{2:0}})"
   ]
  },
  {
   "cell_type": "markdown",
   "id": "85fb9ee2",
   "metadata": {
    "id": "85fb9ee2"
   },
   "source": [
    "##### Replace NaN with '0'."
   ]
  },
  {
   "cell_type": "code",
   "execution_count": 63,
   "id": "ed2dc52f",
   "metadata": {
    "executionInfo": {
     "elapsed": 7,
     "status": "ok",
     "timestamp": 1657614678237,
     "user": {
      "displayName": "Anton Deviatko",
      "userId": "00531245545175335141"
     },
     "user_tz": -180
    },
    "id": "ed2dc52f"
   },
   "outputs": [],
   "source": [
    "df['_URBSTAT'] = df['_URBSTAT'].fillna(0)   "
   ]
  },
  {
   "cell_type": "markdown",
   "id": "d186cbdc",
   "metadata": {
    "id": "d186cbdc"
   },
   "source": [
    "#### '_IMPRACE'\n",
    "##### Imputed race/ethnicity."
   ]
  },
  {
   "cell_type": "code",
   "execution_count": 64,
   "id": "cfd5852a",
   "metadata": {
    "colab": {
     "base_uri": "https://localhost:8080/",
     "height": 387
    },
    "executionInfo": {
     "elapsed": 1342,
     "status": "ok",
     "timestamp": 1657614711547,
     "user": {
      "displayName": "Anton Deviatko",
      "userId": "00531245545175335141"
     },
     "user_tz": -180
    },
    "id": "cfd5852a",
    "outputId": "b3422c40-3e07-4b7d-a186-48cd23b95edc"
   },
   "outputs": [
    {
     "data": {
      "text/plain": [
       "<seaborn.axisgrid.FacetGrid at 0x7ff2c08fc1f0>"
      ]
     },
     "execution_count": 64,
     "metadata": {},
     "output_type": "execute_result"
    },
    {
     "data": {
      "image/png": "[encoded data removed]",
      "text/plain": [
       "<Figure size 412x360 with 1 Axes>"
      ]
     },
     "metadata": {
      "needs_background": "light"
     },
     "output_type": "display_data"
    }
   ],
   "source": [
    "sns.displot(x = df['_IMPRACE'], hue = '_MICHD', data = df,  bins = 6)"
   ]
  },
  {
   "cell_type": "code",
   "execution_count": 65,
   "id": "ca0e6485",
   "metadata": {
    "colab": {
     "base_uri": "https://localhost:8080/"
    },
    "executionInfo": {
     "elapsed": 409,
     "status": "ok",
     "timestamp": 1657614697823,
     "user": {
      "displayName": "Anton Deviatko",
      "userId": "00531245545175335141"
     },
     "user_tz": -180
    },
    "id": "ca0e6485",
    "outputId": "480fc701-5272-43c4-9613-37784422a165"
   },
   "outputs": [
    {
     "data": {
      "text/plain": [
       "_IMPRACE\n",
       "1.0    299260\n",
       "2.0     29829\n",
       "3.0     10085\n",
       "4.0      6797\n",
       "5.0     35802\n",
       "6.0     13762\n",
       "Name: _IMPRACE, dtype: int64"
      ]
     },
     "execution_count": 65,
     "metadata": {},
     "output_type": "execute_result"
    }
   ],
   "source": [
    "df.groupby(['_IMPRACE'])['_IMPRACE'].count()"
   ]
  },
  {
   "cell_type": "markdown",
   "id": "ea18680a",
   "metadata": {
    "id": "ea18680a"
   },
   "source": [
    "##### '1' White, '2' Black, '3' Asian, '4' American Native, '5' Hispanic, '6' Other race. Make One Hot Encoding."
   ]
  },
  {
   "cell_type": "code",
   "execution_count": 66,
   "id": "48892315",
   "metadata": {
    "executionInfo": {
     "elapsed": 405,
     "status": "ok",
     "timestamp": 1657614884119,
     "user": {
      "displayName": "Anton Deviatko",
      "userId": "00531245545175335141"
     },
     "user_tz": -180
    },
    "id": "48892315"
   },
   "outputs": [],
   "source": [
    "df = df.replace({'_IMPRACE': {1:'WHITE', 2:'BLACK', 3:'ASIAN', 4:'AMRNTV', 5:'HISPAN', 6:'OTHRRACE'}})\n",
    "dummy_race = pd.get_dummies(df['_IMPRACE'])\n",
    "df = pd.merge(left = df, right = dummy_race, left_index = True, right_index = True)\n",
    "df = df.drop(['_IMPRACE'], axis = 1)"
   ]
  },
  {
   "cell_type": "markdown",
   "id": "955f767a",
   "metadata": {
    "id": "955f767a"
   },
   "source": [
    "#### '_RFBING5'\n",
    "##### Binge drinkers."
   ]
  },
  {
   "cell_type": "code",
   "execution_count": 67,
   "id": "e57fbd0f",
   "metadata": {
    "colab": {
     "base_uri": "https://localhost:8080/",
     "height": 387
    },
    "executionInfo": {
     "elapsed": 2327,
     "status": "ok",
     "timestamp": 1657614925894,
     "user": {
      "displayName": "Anton Deviatko",
      "userId": "00531245545175335141"
     },
     "user_tz": -180
    },
    "id": "e57fbd0f",
    "outputId": "d6348d2c-4563-47d1-b82f-12604ab23522"
   },
   "outputs": [
    {
     "data": {
      "text/plain": [
       "<seaborn.axisgrid.FacetGrid at 0x7ff30a4e9d90>"
      ]
     },
     "execution_count": 67,
     "metadata": {},
     "output_type": "execute_result"
    },
    {
     "data": {
      "image/png": "[encoded data removed]",
      "text/plain": [
       "<Figure size 412x360 with 1 Axes>"
      ]
     },
     "metadata": {
      "needs_background": "light"
     },
     "output_type": "display_data"
    }
   ],
   "source": [
    "sns.displot(x = df['_RFBING5'], hue = '_MICHD', data = df,  bins = 9)"
   ]
  },
  {
   "cell_type": "code",
   "execution_count": 68,
   "id": "077e77ab",
   "metadata": {
    "colab": {
     "base_uri": "https://localhost:8080/"
    },
    "executionInfo": {
     "elapsed": 429,
     "status": "ok",
     "timestamp": 1657614933689,
     "user": {
      "displayName": "Anton Deviatko",
      "userId": "00531245545175335141"
     },
     "user_tz": -180
    },
    "id": "077e77ab",
    "outputId": "8e13f509-2558-446e-bcd2-2a28702a8255"
   },
   "outputs": [
    {
     "data": {
      "text/plain": [
       "_RFBING5\n",
       "1.0    316981\n",
       "2.0     48859\n",
       "9.0     29695\n",
       "Name: _RFBING5, dtype: int64"
      ]
     },
     "execution_count": 68,
     "metadata": {},
     "output_type": "execute_result"
    }
   ],
   "source": [
    "df.groupby(['_RFBING5'])['_RFBING5'].count()"
   ]
  },
  {
   "cell_type": "markdown",
   "id": "5420712f",
   "metadata": {
    "id": "5420712f"
   },
   "source": [
    "##### Too many missing values - 29625 (encoded '9'), the distribution is uniform, remove this feature."
   ]
  },
  {
   "cell_type": "code",
   "execution_count": 69,
   "id": "bde22251",
   "metadata": {
    "executionInfo": {
     "elapsed": 409,
     "status": "ok",
     "timestamp": 1657615000231,
     "user": {
      "displayName": "Anton Deviatko",
      "userId": "00531245545175335141"
     },
     "user_tz": -180
    },
    "id": "bde22251"
   },
   "outputs": [],
   "source": [
    "df = df.drop(['_RFBING5'], axis=1)"
   ]
  },
  {
   "cell_type": "markdown",
   "id": "758c4ac1",
   "metadata": {
    "id": "758c4ac1"
   },
   "source": [
    "### Check for NaN"
   ]
  },
  {
   "cell_type": "code",
   "execution_count": 70,
   "id": "f76f1860",
   "metadata": {
    "colab": {
     "base_uri": "https://localhost:8080/"
    },
    "executionInfo": {
     "elapsed": 477,
     "status": "ok",
     "timestamp": 1657615011648,
     "user": {
      "displayName": "Anton Deviatko",
      "userId": "00531245545175335141"
     },
     "user_tz": -180
    },
    "id": "f76f1860",
    "outputId": "cb773309-24f9-4d11-a69f-78702be493ce",
    "scrolled": true
   },
   "outputs": [
    {
     "data": {
      "text/plain": [
       "_SEX            0\n",
       "_AGE80          0\n",
       "_TOTINDA        0\n",
       "GENHLTH         5\n",
       "CVDSTRK3        0\n",
       "DIABETE4        0\n",
       "LASTDEN4        0\n",
       "_EDUCAG         0\n",
       "_CHLDCNT        0\n",
       "_SMOKER3        0\n",
       "_URBSTAT        0\n",
       "_MICHD       3279\n",
       "BMI_LOG         0\n",
       "SLEEP_LOG       0\n",
       "DIVRSD          0\n",
       "MARRD           0\n",
       "NEVMRRD         0\n",
       "SEPRTD          0\n",
       "UNMCOUPL        0\n",
       "WIDWD           0\n",
       "AMRNTV          0\n",
       "ASIAN           0\n",
       "BLACK           0\n",
       "HISPAN          0\n",
       "OTHRRACE        0\n",
       "WHITE           0\n",
       "dtype: int64"
      ]
     },
     "execution_count": 70,
     "metadata": {},
     "output_type": "execute_result"
    }
   ],
   "source": [
    "df.isnull().sum()"
   ]
  },
  {
   "cell_type": "markdown",
   "id": "di2v3or9j2Ut",
   "metadata": {
    "id": "di2v3or9j2Ut"
   },
   "source": [
    "##### Delete the remaining lines with NaN, including the target feature."
   ]
  },
  {
   "cell_type": "code",
   "execution_count": 71,
   "id": "f09557e8",
   "metadata": {
    "executionInfo": {
     "elapsed": 381,
     "status": "ok",
     "timestamp": 1657615140453,
     "user": {
      "displayName": "Anton Deviatko",
      "userId": "00531245545175335141"
     },
     "user_tz": -180
    },
    "id": "f09557e8"
   },
   "outputs": [],
   "source": [
    "df = df.dropna()"
   ]
  },
  {
   "cell_type": "code",
   "execution_count": 72,
   "id": "Mhd0pIljjhUH",
   "metadata": {
    "id": "Mhd0pIljjhUH"
   },
   "outputs": [],
   "source": [
    "df.to_csv('heart_dis_data.csv', header = True, index = False) "
   ]
  },
  {
   "cell_type": "code",
   "execution_count": null,
   "id": "b1e2022a",
   "metadata": {},
   "outputs": [],
   "source": []
  }
 ],
 "metadata": {
  "colab": {
   "collapsed_sections": [],
   "name": "project_2.2.ipynb",
   "provenance": []
  },
  "kernelspec": {
   "display_name": "Python 3 (ipykernel)",
   "language": "python",
   "name": "python3"
  },
  "language_info": {
   "codemirror_mode": {
    "name": "ipython",
    "version": 3
   },
   "file_extension": ".py",
   "mimetype": "text/x-python",
   "name": "python",
   "nbconvert_exporter": "python",
   "pygments_lexer": "ipython3",
   "version": "3.9.7"
  }
 },
 "nbformat": 4,
 "nbformat_minor": 5
}
